{
 "cells": [
  {
   "cell_type": "code",
   "execution_count": 1,
   "metadata": {},
   "outputs": [],
   "source": [
    "import numpy as np\n",
    "import csv\n",
    "import pandas as pd\n",
    "import time \n",
    "import fluidlab as fl"
   ]
  },
  {
   "cell_type": "code",
   "execution_count": 2,
   "metadata": {},
   "outputs": [],
   "source": [
    "#(r\"D:\\Ammonia_NBL_3D\\NBL_3D_T_F100_600_Hot_Buoyant.csv\",skiprows = sk,nrows = n, dtype =np.float32,header = None)\n",
    "#(r\"D:\\Helium_FLUX_1\\He_h01_01_T.csv\",skiprows = sk,nrows = n, dtype =np.float32)"
   ]
  },
  {
   "cell_type": "code",
   "execution_count": null,
   "metadata": {},
   "outputs": [],
   "source": [
    "Start = 0 # numer of rows in dataset\n",
    "End = 500 # time start\n",
    "\n",
    "sk = Start*45*45*700\n",
    "nr = End - Start\n",
    "n = 45*45*700*nr\n",
    "name = 'Helium_FLUX_1'\n",
    "# #INPUT the path of the file\n",
    "dft = pd.read_csv(r\"D:\\Helium_FLUX_1\\He_h01_01_T.csv\",skiprows = sk,nrows = n, dtype =np.float32)\n",
    "datat = dft.to_numpy()\n",
    "del dft\n",
    "dfu = pd.read_csv(r\"D:\\Helium_FLUX_1\\He_h01_01_U.csv\",skiprows = sk,nrows = n, dtype =np.float32)\n",
    "datau = dfu.to_numpy()\n",
    "del dfu\n",
    "dfv = pd.read_csv(r\"D:\\Helium_FLUX_1\\He_h01_01_V.csv\",skiprows = sk,nrows = n, dtype =np.float32)\n",
    "datav = dfv.to_numpy()\n",
    "del dfv\n",
    "dfw = pd.read_csv(r\"D:\\Helium_FLUX_1\\He_h01_01_W.csv\",skiprows = sk,nrows = n, dtype =np.float32)\n",
    "dataw = dfw.to_numpy()\n",
    "del dfw\n",
    "#'/Volumes/ThanhPor/Helium_FLUX_1/He_h01_01_W.csv'"
   ]
  },
  {
   "cell_type": "code",
   "execution_count": null,
   "metadata": {},
   "outputs": [],
   "source": [
    "#Shaping data into actural shape (45*45*700)\n",
    "datat = np.reshape(datat, (45,45,700,nr), order=\"F\")\n",
    "datau = np.reshape(datau, (45,45,700,nr), order=\"F\")\n",
    "datav = np.reshape(datav, (45,45,700,nr), order=\"F\")\n",
    "dataw = np.reshape(dataw, (45,45,700,nr), order=\"F\")"
   ]
  },
  {
   "cell_type": "code",
   "execution_count": 3,
   "metadata": {},
   "outputs": [],
   "source": [
    "# #Calculate Lambda2 \n",
    "# #Estimated time: 2h-3h\n",
    "# #Input (u,v,w,dx,dy,dz)\n",
    "# tic = time.perf_counter()\n",
    "# lamb2 = fl.lambda2t(datau,datav,dataw,dx=40,dy=40,dz=10)\n",
    "# toc1 = time.perf_counter()\n",
    "# print(f\"Time: {((toc1 - tic)/60):0.4f} minutes\")"
   ]
  },
  {
   "cell_type": "code",
   "execution_count": 4,
   "metadata": {},
   "outputs": [],
   "source": [
    "#delete in case running out of memeory\n",
    "# del lamb2"
   ]
  },
  {
   "cell_type": "code",
   "execution_count": 13,
   "metadata": {},
   "outputs": [],
   "source": [
    "name = 'Ammonia'"
   ]
  },
  {
   "cell_type": "code",
   "execution_count": 4,
   "metadata": {},
   "outputs": [
    {
     "name": "stdout",
     "output_type": "stream",
     "text": [
      "Time: 6.2411 minutes\n"
     ]
    }
   ],
   "source": [
    "#Calculate Omega \n",
    "#Estimated time: 8 minutes\n",
    "#Input (u,v,w,dx,dy,dz)\n",
    "tic = time.perf_counter()\n",
    "ome = fl.omega(datau,datav,dataw,dx=40,dy=40,dz=10)\n",
    "toc1 = time.perf_counter()\n",
    "print(f\"Time: {((toc1 - tic)/60):0.4f} minutes\")\n",
    "#468"
   ]
  },
  {
   "cell_type": "code",
   "execution_count": 5,
   "metadata": {},
   "outputs": [
    {
     "name": "stdout",
     "output_type": "stream",
     "text": [
      "Time: 32.2293 minutes\n"
     ]
    }
   ],
   "source": [
    "tic = time.perf_counter()\n",
    "#Saving File\n",
    "\n",
    "filename = name +'_omega.csv'\n",
    "filedata = ome\n",
    "\n",
    "import csv\n",
    "nx,ny,nz,nt = filedata.shape[0],filedata.shape[1],filedata.shape[2],filedata.shape[3]\n",
    "filedata = np.reshape(filedata, (nx*ny*nz*nt,1), order=\"F\")\n",
    "# writing to csv file  \n",
    "with open(filename, 'w') as csvfile:  \n",
    "    # creating a csv writer object  \n",
    "    csvwriter = csv.writer(csvfile) \n",
    "    # writing the data rows   \n",
    "    csvwriter.writerows(filedata)\n",
    "    \n",
    "toc1 = time.perf_counter()\n",
    "print(f\"Time: {((toc1 - tic)/60):0.4f} minutes\")"
   ]
  },
  {
   "cell_type": "code",
   "execution_count": 6,
   "metadata": {},
   "outputs": [],
   "source": [
    "#delete in case running out of memeory\n",
    "# del ome"
   ]
  },
  {
   "cell_type": "code",
   "execution_count": null,
   "metadata": {},
   "outputs": [],
   "source": [
    "#Plumehalf graph\n",
    "#Estimated time: ~1 minutes\n",
    "#Input (u,v,w,threshold,dx,dy,dz,D,graphname)\n",
    "tic = time.perf_counter()\n",
    "threshold = 1/np.exp(1)\n",
    "fl.plumehalfgraph(dataw,datat,threshold,40,40,10,400,name)\n",
    "\n",
    "toc1 = time.perf_counter()\n",
    "print(f\"Eigen: {toc1 - tic:0.4f} seconds\") "
   ]
  },
  {
   "cell_type": "code",
   "execution_count": null,
   "metadata": {},
   "outputs": [],
   "source": [
    "#Top_view_graph\n",
    "#Estimated time: ~1 minutes\n",
    "#Input (data(w or t),type_data,file_namedx,dx,dy,dz,D,frame) * more frame will take longer\n",
    "tic = time.perf_counter()\n",
    "fl.topviewmap(dataw,datatype = \"W/Wc\",filename = name,dx=45,dy=45,dz=10,D=400,frame=20)\n",
    "toc1 = time.perf_counter()\n",
    "print(f\"Eigen: {toc1 - tic:0.4f} seconds\") \n"
   ]
  },
  {
   "cell_type": "code",
   "execution_count": 8,
   "metadata": {},
   "outputs": [
    {
     "name": "stdout",
     "output_type": "stream",
     "text": [
      "Time: 54.5153 seconds\n"
     ]
    }
   ],
   "source": [
    "# #Converting Cartesian to Polar\n",
    "# #Estimated time: 1 mins\n",
    "# #Input (u,v,w,dx,dy,dz)\n",
    "# tic = time.perf_counter()\n",
    "# Ur,Utheta,Uw = fl.cart2pol(datau,datav,dataw,dx=40,dy=40,dz=10)\n",
    "# toc1 = time.perf_counter()\n",
    "# print(f\"Time: {toc1 - tic:0.4f} seconds\")"
   ]
  },
  {
   "cell_type": "code",
   "execution_count": 10,
   "metadata": {},
   "outputs": [],
   "source": [
    "# del Ur,Utheta,Uw"
   ]
  }
 ],
 "metadata": {
  "kernelspec": {
   "display_name": "Python 3",
   "language": "python",
   "name": "python3"
  },
  "language_info": {
   "codemirror_mode": {
    "name": "ipython",
    "version": 3
   },
   "file_extension": ".py",
   "mimetype": "text/x-python",
   "name": "python",
   "nbconvert_exporter": "python",
   "pygments_lexer": "ipython3",
   "version": "3.7.6"
  }
 },
 "nbformat": 4,
 "nbformat_minor": 4
}
