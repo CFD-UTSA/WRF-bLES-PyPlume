{
 "cells": [
  {
   "cell_type": "code",
   "execution_count": 5,
   "metadata": {
    "jupyter": {
     "source_hidden": true
    }
   },
   "outputs": [],
   "source": [
    "import cv2\n",
    "import numpy as np\n",
    "import os\n",
    "from os.path import isfile, join\n",
    "pathIn= './Helium2_Lamda2_(100-200)/'\n",
    "pathOut = 'video.avi'\n",
    "fps = 0.5\n",
    "frame_array = []\n",
    "files = [f for f in os.listdir(pathIn) if isfile(join(pathIn, f))]\n",
    "#for sorting the file names properly\n",
    "files.sort(key = lambda x: x[5:-4])\n",
    "files.sort()\n",
    "frame_array = []\n",
    "files = [f for f in os.listdir(pathIn) if isfile(join(pathIn, f))]\n",
    "#for sorting the file names properly\n",
    "files.sort(key = lambda x: x[5:-4])\n",
    "for i in range(len(files)):\n",
    "    filename=pathIn + files[i]\n",
    "    #reading each files\n",
    "    img = cv2.imread(filename)\n",
    "    height, width, layers = img.shape\n",
    "    size = (width,height)\n",
    "    \n",
    "    #inserting the frames into an image array\n",
    "    frame_array.append(img)\n",
    "out = cv2.VideoWriter(pathOut,cv2.VideoWriter_fourcc(*'DIVX'), fps, size)\n",
    "for i in range(len(frame_array)):\n",
    "    # writing to a image array\n",
    "    out.write(frame_array[i])\n",
    "out.release()"
   ]
  },
  {
   "cell_type": "code",
   "execution_count": 1,
   "metadata": {},
   "outputs": [
    {
     "name": "stdout",
     "output_type": "stream",
     "text": [
      "['000.png', '003.png', '006.png', '009.png', '010.png', '012.png', '015.png', '018.png', '020.png', '021.png', '024.png', '027.png', '030.png', '033.png', '036.png', '039.png', '040.png', '042.png', '045.png', '048.png', '050.png', '051.png', '054.png', '057.png', '060.png', '063.png', '066.png', '069.png', '070.png', '072.png', '075.png', '078.png', '080.png', '081.png', '084.png', '087.png', '090.png', '093.png', '096.png', '099.png']\n"
     ]
    }
   ],
   "source": [
    "\n",
    "# importing libraries \n",
    "import os \n",
    "import cv2  \n",
    "# from PIL import Image  \n",
    "  \n",
    "# Checking the current directory path \n",
    "  \n",
    "# # Folder which contains all the images \n",
    "# # from which video is to be generated \n",
    "# os.chdir(\"C:\\\\Python\\\\Geekfolder2\")   \n",
    "# path = \"C:\\\\Python\\\\Geekfolder2\"\n",
    "  \n",
    "# mean_height = 0\n",
    "# mean_width = 0\n",
    "  \n",
    "# num_of_images = len(os.listdir('.')) \n",
    "# # print(num_of_images) \n",
    "  \n",
    "# for file in os.listdir('.'): \n",
    "#     im = Image.open(os.path.join(path, file)) \n",
    "#     width, height = im.size \n",
    "#     mean_width += width \n",
    "#     mean_height += height \n",
    "#     # im.show()   # uncomment this for displaying the image \n",
    "\n",
    "# # Finding the mean height and width of all images. \n",
    "# # This is required because the video frame needs \n",
    "# # to be set with same width and height. Otherwise \n",
    "# # images not equal to that width height will not get  \n",
    "# # embedded into the video \n",
    "# mean_width = int(mean_width / num_of_images) \n",
    "# mean_height = int(mean_height / num_of_images) \n",
    "  \n",
    "# # print(mean_height) \n",
    "# # print(mean_width) \n",
    "  \n",
    "# # Resizing of the images to give \n",
    "# # them same width and height  \n",
    "# for file in os.listdir('.'): \n",
    "#     if file.endswith(\".jpg\") or file.endswith(\".jpeg\") or file.endswith(\"png\"): \n",
    "#         # opening image using PIL Image \n",
    "#         im = Image.open(os.path.join(path, file))  \n",
    "   \n",
    "#         # im.size includes the height and width of image \n",
    "#         width, height = im.size    \n",
    "#         print(width, height) \n",
    "  \n",
    "#         # resizing  \n",
    "#         imResize = im.resize((mean_width, mean_height), Image.ANTIALIAS)  \n",
    "#         imResize.save( file, 'JPEG', quality = 95) # setting quality \n",
    "#         # printing each resized image name \n",
    "#         print(im.filename.split('\\\\')[-1], \" is resized\")  \n",
    "  \n",
    "## Video Generating function \n",
    "def generate_video(path): \n",
    "    image_folder = '.' # make sure to use your folder \n",
    "    end = len(path)\n",
    "    for i in range (end):\n",
    "        if (path[i] == \"\\\\\" ):\n",
    "            j = i +1\n",
    "    filename = path[j:end]  \n",
    "    video_name = filename + '.avi'\n",
    "    os.chdir(path) \n",
    "      \n",
    "    images = [img for img in os.listdir(image_folder) \n",
    "              if img.endswith(\".jpg\") or\n",
    "                 img.endswith(\".jpeg\") or\n",
    "                 img.endswith(\"png\")] \n",
    "     \n",
    "    # Array images should only consider \n",
    "    # the image files ignoring others if any \n",
    "    print(images)  \n",
    "  \n",
    "    frame = cv2.imread(os.path.join(image_folder, images[0])) \n",
    "  \n",
    "    # setting the frame width, height width \n",
    "    # the width, height of first image \n",
    "    height, width, layers = frame.shape   \n",
    "  \n",
    "    video = cv2.VideoWriter(video_name, 0, 1, (width, height))  \n",
    "  \n",
    "    # Appending the images to the video one by one \n",
    "    for image in images:  \n",
    "        video.write(cv2.imread(os.path.join(image_folder, image)))  \n",
    "      \n",
    "    # Deallocating memories taken for window creation \n",
    "    cv2.destroyAllWindows()  \n",
    "    video.release()  # releasing the video generated \n",
    "  \n",
    "  \n",
    "# Calling the generate_video function \n",
    "path= r'C:\\Users\\thanh\\iCloudDrive\\Fluidlab\\Fluidlab\\Helium2_Lamda2_(100-200)'\n",
    "generate_video(path) "
   ]
  },
  {
   "cell_type": "code",
   "execution_count": 41,
   "metadata": {},
   "outputs": [],
   "source": [
    "end = len(path)\n",
    "for i in range (end):\n",
    "    if (path[i] == \"\\\\\" ):\n",
    "        j = i +1\n",
    "filename = path[j:end]        "
   ]
  },
  {
   "cell_type": "code",
   "execution_count": 42,
   "metadata": {},
   "outputs": [
    {
     "data": {
      "text/plain": [
       "'Helium2_Lamda2_(100-200)'"
      ]
     },
     "execution_count": 42,
     "metadata": {},
     "output_type": "execute_result"
    }
   ],
   "source": [
    "filename"
   ]
  },
  {
   "cell_type": "code",
   "execution_count": 3,
   "metadata": {},
   "outputs": [
    {
     "name": "stdout",
     "output_type": "stream",
     "text": [
      "Please install cv2 library by run line  (pip install opencv-python) in the command prompt\n"
     ]
    }
   ],
   "source": [
    "print('Please install cv2 library by run line  (pip install opencv-python) in the command prompt')"
   ]
  },
  {
   "cell_type": "code",
   "execution_count": null,
   "metadata": {},
   "outputs": [],
   "source": []
  }
 ],
 "metadata": {
  "kernelspec": {
   "display_name": "Python 3",
   "language": "python",
   "name": "python3"
  },
  "language_info": {
   "codemirror_mode": {
    "name": "ipython",
    "version": 3
   },
   "file_extension": ".py",
   "mimetype": "text/x-python",
   "name": "python",
   "nbconvert_exporter": "python",
   "pygments_lexer": "ipython3",
   "version": "3.7.6"
  }
 },
 "nbformat": 4,
 "nbformat_minor": 4
}
