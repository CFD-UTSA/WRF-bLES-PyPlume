{
 "cells": [
  {
   "cell_type": "code",
   "execution_count": 1,
   "metadata": {},
   "outputs": [],
   "source": [
    "import numpy as np\n",
    "import pyplume as pl\n",
    "from datetime import datetime"
   ]
  },
  {
   "cell_type": "code",
   "execution_count": 2,
   "metadata": {},
   "outputs": [],
   "source": [
    "folder = r'Z:\\Thanh\\DC_h_2.5'\n",
    "filename = \"DC_h_2.5\"\n",
    "U = pl.hf_loadmat(folder+'\\\\'+filename+\"_U\")\n",
    "W = pl.hf_loadmat(folder+'\\\\'+filename+\"_W\")\n",
    "V = pl.hf_loadmat(folder+'\\\\'+filename+\"_V\")"
   ]
  },
  {
   "cell_type": "code",
   "execution_count": 5,
   "metadata": {},
   "outputs": [
    {
     "name": "stdout",
     "output_type": "stream",
     "text": [
      "(45, 45, 700, 360)\n"
     ]
    }
   ],
   "source": [
    "print(np.shape(U))"
   ]
  },
  {
   "cell_type": "code",
   "execution_count": 6,
   "metadata": {},
   "outputs": [],
   "source": [
    "# from matplotlib import pyplot as plt\n",
    "# plt.contour(V[22,:,:,500].T)"
   ]
  },
  {
   "cell_type": "code",
   "execution_count": 7,
   "metadata": {},
   "outputs": [],
   "source": [
    "def save_large_mat(data,filename):\n",
    "    nx,ny,nz,nt = np.shape(data)\n",
    "    half = int(nt/2)\n",
    "    pl.savemat(data[:,:,:,:half],filename+\"_1\")\n",
    "    pl.savemat(data[:,:,:,half:],filename+\"_2\")"
   ]
  },
  {
   "cell_type": "code",
   "execution_count": 8,
   "metadata": {},
   "outputs": [
    {
     "name": "stdout",
     "output_type": "stream",
     "text": [
      "0\n",
      "24\n",
      "48\n",
      "72\n",
      "96\n",
      "120\n",
      "144\n",
      "168\n",
      "192\n",
      "216\n",
      "240\n",
      "264\n",
      "288\n",
      "312\n",
      "336\n",
      "Duration: 0:32:48.747562\n"
     ]
    }
   ],
   "source": [
    "start_time = datetime.now()\n",
    "lambda2 = pl.lambda2multicore(U,V,W,40,40,10)\n",
    "save_large_mat(lambda2,folder+'\\\\'+filename+\"_lambda2\")\n",
    "end_time = datetime.now()\n",
    "print(\"Duration:\", end_time - start_time)"
   ]
  },
  {
   "cell_type": "code",
   "execution_count": 9,
   "metadata": {},
   "outputs": [],
   "source": [
    "del lambda2"
   ]
  },
  {
   "cell_type": "code",
   "execution_count": 10,
   "metadata": {},
   "outputs": [],
   "source": [
    "folder = r'Z:\\Thanh\\DC_h_2.5.restart'\n",
    "filename = \"DC_h_2.5.restart\"\n",
    "U = pl.hf_loadmat(folder+'\\\\'+filename+\"_U\")\n",
    "W = pl.hf_loadmat(folder+'\\\\'+filename+\"_W\")\n",
    "V = pl.hf_loadmat(folder+'\\\\'+filename+\"_V\")"
   ]
  },
  {
   "cell_type": "code",
   "execution_count": 11,
   "metadata": {},
   "outputs": [
    {
     "name": "stdout",
     "output_type": "stream",
     "text": [
      "0\n",
      "24\n",
      "48\n",
      "72\n",
      "96\n",
      "120\n",
      "144\n",
      "168\n",
      "192\n",
      "216\n",
      "240\n",
      "264\n",
      "288\n",
      "312\n",
      "336\n",
      "360\n",
      "384\n",
      "408\n",
      "432\n",
      "456\n",
      "480\n",
      "504\n",
      "528\n",
      "552\n",
      "576\n",
      "600\n",
      "624\n",
      "648\n",
      "672\n",
      "696\n",
      "720\n",
      "744\n",
      "768\n",
      "792\n",
      "816\n",
      "840\n",
      "864\n",
      "888\n",
      "912\n",
      "936\n",
      "960\n",
      "984\n",
      "1008\n",
      "1032\n",
      "1056\n",
      "1080\n",
      "1104\n",
      "1128\n",
      "1152\n",
      "1176\n",
      "Duration: 1:44:49.436451\n"
     ]
    }
   ],
   "source": [
    "start_time = datetime.now()\n",
    "lambda2 = pl.lambda2multicore(U,V,W,40,40,10)\n",
    "save_large_mat(lambda2,folder+'\\\\'+filename+\"_lambda2\")\n",
    "end_time = datetime.now()\n",
    "print(\"Duration:\", end_time - start_time)"
   ]
  },
  {
   "cell_type": "code",
   "execution_count": 8,
   "metadata": {},
   "outputs": [],
   "source": [
    "# Ut = U[:,22,:]\n",
    "# Vt = V[:,22,:]\n",
    "# Wt = W[:,22,:]\n",
    "# Tt = T[:,22,:]"
   ]
  },
  {
   "cell_type": "code",
   "execution_count": 9,
   "metadata": {},
   "outputs": [],
   "source": [
    "# dx=40\n",
    "# dz=10\n",
    "# D=400\n",
    "# Ta=300\n",
    "# g=9.81\n",
    "# threshold =0.001"
   ]
  },
  {
   "cell_type": "code",
   "execution_count": 10,
   "metadata": {},
   "outputs": [],
   "source": [
    "# high_frequency_profile(Tt,Ut,Vt,Wt,dx,dz,D,Ta,g,threshold)"
   ]
  },
  {
   "cell_type": "code",
   "execution_count": 5,
   "metadata": {},
   "outputs": [],
   "source": [
    "l2 = pl.hf_loadmat(folder+'\\\\'+\"DC_lambda2\")"
   ]
  },
  {
   "cell_type": "code",
   "execution_count": 7,
   "metadata": {},
   "outputs": [
    {
     "data": {
      "text/plain": [
       "<matplotlib.contour.QuadContourSet at 0x224d17411f0>"
      ]
     },
     "execution_count": 7,
     "metadata": {},
     "output_type": "execute_result"
    },
    {
     "data": {
      "image/png": "[encoded data removed]",
      "text/plain": [
       "<Figure size 432x288 with 1 Axes>"
      ]
     },
     "metadata": {
      "needs_background": "light"
     },
     "output_type": "display_data"
    }
   ],
   "source": [
    "from matplotlib import pyplot as plt\n",
    "plt.contour(l2[22,:,:,100].T)"
   ]
  },
  {
   "cell_type": "code",
   "execution_count": 9,
   "metadata": {},
   "outputs": [],
   "source": [
    "l21 = pl.loadmat(r\"C:\\Users\\thanh\\OneDrive - University of Texas at San Antonio\\Data\\CO2_h5\\CO2_h5_lambda2\")"
   ]
  },
  {
   "cell_type": "code",
   "execution_count": 11,
   "metadata": {},
   "outputs": [
    {
     "data": {
      "text/plain": [
       "<matplotlib.contour.QuadContourSet at 0x224d28244f0>"
      ]
     },
     "execution_count": 11,
     "metadata": {},
     "output_type": "execute_result"
    },
    {
     "data": {
      "image/png": "[encoded data removed]",
      "text/plain": [
       "<Figure size 432x288 with 1 Axes>"
      ]
     },
     "metadata": {
      "needs_background": "light"
     },
     "output_type": "display_data"
    }
   ],
   "source": [
    "plt.contourf(l21[22,:,:,100].T)"
   ]
  },
  {
   "cell_type": "code",
   "execution_count": null,
   "metadata": {},
   "outputs": [],
   "source": []
  }
 ],
 "metadata": {
  "kernelspec": {
   "display_name": "Python 3",
   "language": "python",
   "name": "python3"
  },
  "language_info": {
   "codemirror_mode": {
    "name": "ipython",
    "version": 3
   },
   "file_extension": ".py",
   "mimetype": "text/x-python",
   "name": "python",
   "nbconvert_exporter": "python",
   "pygments_lexer": "ipython3",
   "version": "3.8.5"
  }
 },
 "nbformat": 4,
 "nbformat_minor": 4
}
