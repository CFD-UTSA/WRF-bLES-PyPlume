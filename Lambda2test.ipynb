{
 "cells": [
  {
   "cell_type": "code",
   "execution_count": 1,
   "metadata": {},
   "outputs": [],
   "source": [
    "import numpy as np\n",
    "import csv\n",
    "import pandas as pd\n",
    "import time \n",
    "import LESbplume as lp"
   ]
  },
  {
   "cell_type": "code",
   "execution_count": 2,
   "metadata": {},
   "outputs": [],
   "source": [
    "#(r\"D:\\Ammonia_NBL_3D\\D:\\Documents\\Ammonia_NBL_3D\\Ammonia_NBL_3D,skiprows = sk,nrows = n, dtype =np.float32,header = None)\n",
    "#(r\"D:\\Helium_FLUX_1\\He_h01_01_T.csv\",skiprows = sk,nrows = n, dtype =np.float32)"
   ]
  },
  {
   "cell_type": "code",
   "execution_count": 3,
   "metadata": {},
   "outputs": [],
   "source": [
    "Start = 0 # numer of rows in dataset\n",
    "End = 4 # time start\n",
    "\n",
    "sk = Start*45*45*700\n",
    "nr = End - Start\n",
    "n = 45*45*700*nr\n",
    "name = 'Ammonia'\n",
    "dx=dy=40\n",
    "dz =10\n",
    "\n",
    "l2 = pd.read_csv(r\"C:\\Users\\thanh\\Documents\\MATLAB\\lambda2_Sam.csv\",skiprows = sk,nrows = n, dtype =np.float32,header = None)\n",
    "lamb2sam = l2.to_numpy()\n",
    "del l2\n",
    "lamb2sam = np.reshape(lamb2sam, (45,45,700,nr), order=\"F\")\n",
    "\n",
    "dfu = pd.read_csv(r\"D:\\Documents\\\\Helium_2\\Helium_2_U.csv\",skiprows = sk,nrows = n, dtype =np.float32,header = None)\n",
    "datau = dfu.to_numpy()\n",
    "del dfu\n",
    "datau = np.reshape(datau, (45,45,700,nr), order=\"F\")\n",
    "\n",
    "dfv = pd.read_csv(r\"D:\\Documents\\\\Helium_2\\Helium_2_V.csv\",skiprows = sk,nrows = n, dtype =np.float32,header = None)\n",
    "datav = dfv.to_numpy()\n",
    "del dfv\n",
    "datav = np.reshape(datav, (45,45,700,nr), order=\"F\")\n",
    "\n",
    "dfw = pd.read_csv(r\"D:\\Documents\\\\Helium_2\\Helium_2_W.csv\",skiprows = sk,nrows = n, dtype =np.float32,header = None)\n",
    "dataw = dfw.to_numpy()\n",
    "del dfw\n",
    "dataw = np.reshape(dataw, (45,45,700,nr), order=\"F\")"
   ]
  },
  {
   "cell_type": "code",
   "execution_count": 10,
   "metadata": {},
   "outputs": [],
   "source": [
    "# #Calculate Lambda2 \n",
    "# #Estimated time: 2h-3h\n",
    "# #Input (u,v,w,dx,dy,dz)\n",
    "# tic = time.perf_counter()\n",
    "# lamb2 = fl.lambda2t(datau,datav,dataw,dx=40,dy=40,dz=10)\n",
    "# toc1 = time.perf_counter()\n",
    "# print(f\"Time: {((toc1 - tic)/60):0.4f} minutes\")"
   ]
  },
  {
   "cell_type": "code",
   "execution_count": 4,
   "metadata": {},
   "outputs": [],
   "source": [
    "from numpy import linalg as LA\n",
    "import numpy as np\n",
    "def shape(dt):\n",
    "    return dt.shape[0],dt.shape[1],dt.shape[2],dt.shape[3]\n",
    "def transpose(x): \n",
    "    a11 = x[0,0]\n",
    "    a12 = x[0,1]\n",
    "    a13 = x[0,2]\n",
    "    a21 = x[1,0]\n",
    "    a22 = x[1,1]\n",
    "    a23 = x[1,2]\n",
    "    a31 = x[2,0]\n",
    "    a32 = x[2,1]\n",
    "    a33 = x[2,2]\n",
    "    x = np.array([[a11,a21,a31],[a12,a22,a32],[a13,a23,a33]])\n",
    "    return x\n",
    "def muiltiply(x,y):\n",
    "    a11 = x[0,0]*y[0,0]+x[0,1]*y[1,0]+x[0,2]*y[2,0]\n",
    "    a12 = x[0,0]*y[0,1]+x[0,1]*y[1,1]+x[0,2]*y[2,1]\n",
    "    a13 = x[0,0]*y[0,2]+x[0,1]*y[1,2]+x[0,2]*y[2,2]\n",
    "    a21 = x[1,0]*y[0,0]+x[1,1]*y[1,0]+x[1,2]*y[2,0]\n",
    "    a22 = x[1,0]*y[0,1]+x[1,1]*y[1,1]+x[1,2]*y[2,1]\n",
    "    a23 = x[1,0]*y[0,2]+x[1,1]*y[1,2]+x[1,2]*y[2,2]\n",
    "    a31 = x[2,0]*y[0,0]+x[2,1]*y[1,0]+x[2,2]*y[2,0]\n",
    "    a32 = x[2,0]*y[0,1]+x[2,1]*y[1,1]+x[2,2]*y[2,1]\n",
    "    a33 = x[2,0]*y[0,2]+x[2,1]*y[1,2]+x[2,2]*y[2,2]\n",
    "    x = np.array([[a11,a21,a31],[a12,a22,a32],[a13,a23,a33]])\n",
    "    return x\n",
    "#trace of 3x3 matrix(AT A)\n",
    "def trace(x):\n",
    "    tra = (x[0,0]*x[1,1]*x[2,2])\n",
    "    return tra\n",
    "def lambmatrix(S,Ome,nx,ny,nz):\n",
    "    from numpy import linalg as LA\n",
    "    lamb2 = np.zeros((nx,ny,nz),dtype=np.float32)\n",
    "    for i in range(0,nx):\n",
    "                for j in range(0,ny):\n",
    "                    for k in range(0,nz):\n",
    "                        matrix = S[:,:,i,j,k].dot(S[:,:,i,j,k])+Ome[:,:,i,j,k].dot(Ome[:,:,i,j,k])\n",
    "                        w = LA.eigvals(matrix)\n",
    "                        w= np.sort(w)\n",
    "                        if w[1]<0:\n",
    "                            lamb2[i,j,k] = w[1]\n",
    "    return lamb2\n",
    "def lambda2(datau,datav,dataw,t,dx=40,dy=40,dz=10):\n",
    "    from numpy import linalg as LA\n",
    "    nx,ny,nz,nt = shape(datau)         \n",
    "    print(t)\n",
    "        \n",
    "    gu = np.gradient(datau[:,:,:,t],dx,dy,dz)\n",
    "    gv = np.gradient(datav[:,:,:,t],dx,dy,dz)\n",
    "    gw = np.gradient(dataw[:,:,:,t],dx,dy,dz)             \n",
    "    J = np.array([gu,gv,gw])\n",
    "    JT = transpose(J)\n",
    "    S = (J+JT)*0.5\n",
    "    Ome = (J-JT)*0.5\n",
    "    lamb2 = lambmatrix(S,Ome,nx,ny,nz)\n",
    "#     print('{}\\r'.format(\"100% Completed\"), end=\"\")\n",
    "    return lamb2"
   ]
  },
  {
   "cell_type": "code",
   "execution_count": null,
   "metadata": {},
   "outputs": [],
   "source": [
    "# t =1\n",
    "# lamb2test = lp.lambda2t(datau,datav,dataw,dx,dy,dz)"
   ]
  },
  {
   "cell_type": "code",
   "execution_count": 4,
   "metadata": {},
   "outputs": [
    {
     "name": "stdout",
     "output_type": "stream",
     "text": [
      "1\n",
      "Time: 1.3949 minutes\n"
     ]
    }
   ],
   "source": [
    "# def lambda2(datau,datav,dataw,t,dx=40,dy=40,dz=10):\n",
    "\n",
    "t = 1\n",
    "tic = time.perf_counter()\n",
    "from numpy import linalg as LA\n",
    "nx,ny,nz,nt = lp.shape(datau)         \n",
    "print(t)    \n",
    "dUdy,dUdx,dUdz = np.gradient(datau[:,:,:,t],dx,dy,dz)\n",
    "dVdy,dVdx,dVdz = np.gradient(datav[:,:,:,t],dx,dy,dz)\n",
    "dWdy,dWdx,dWdz = np.gradient(dataw[:,:,:,t],dx,dy,dz)\n",
    "lamb2 = np.zeros((nx,ny,nz),dtype = np.float32)\n",
    "for i in range(0,nx):\n",
    "        for j in range(0,ny):\n",
    "            for k in range(0,nz):\n",
    "                dudx=dUdx[i,j,k]\n",
    "                dudy=dUdy[i,j,k]\n",
    "                dudz=dUdz[i,j,k]\n",
    "                dvdx=dVdx[i,j,k]\n",
    "                dvdy=dVdy[i,j,k]\n",
    "                dvdz=dVdz[i,j,k]\n",
    "                dwdx=dWdx[i,j,k]\n",
    "                dwdy=dWdy[i,j,k]\n",
    "                dwdz=dWdz[i,j,k]\n",
    "                Om = np.array([[0,dudy-dvdx,dudz-dwdx],\n",
    "                      [dvdx-dudy,0,dvdz-dwdy],\n",
    "                      [dwdx-dudz,dwdy-dvdz,0]])\n",
    "                Om = Om*0.5\n",
    "                S  = np.array([[2*dudx,dudy+dvdx,dudz+dwdx],\n",
    "                      [dvdx+dudy,2*dvdy,dvdz+dwdy],\n",
    "                      [dwdx+dudz,dwdy+dvdz,2*dwdz]])\n",
    "                S = S*0.5\n",
    "                matrix = S.dot(S) + Om.dot(Om)\n",
    "                w = LA.eigvals(matrix)\n",
    "                w= np.sort(w)\n",
    "                if w[1]<0:\n",
    "                    lamb2[i,j,k] = w[1]\n",
    "#     return lamb2\n",
    "toc1 = time.perf_counter()\n",
    "print(f\"Time: {((toc1 - tic)/60):0.4f} minutes\")"
   ]
  },
  {
   "cell_type": "code",
   "execution_count": 5,
   "metadata": {},
   "outputs": [
    {
     "ename": "NameError",
     "evalue": "name 'lamb2test' is not defined",
     "output_type": "error",
     "traceback": [
      "\u001b[1;31m---------------------------------------------------------------------------\u001b[0m",
      "\u001b[1;31mNameError\u001b[0m                                 Traceback (most recent call last)",
      "\u001b[1;32m<ipython-input-5-b3ea7651de96>\u001b[0m in \u001b[0;36m<module>\u001b[1;34m\u001b[0m\n\u001b[1;32m----> 1\u001b[1;33m \u001b[0mlamb2test\u001b[0m\u001b[1;33m[\u001b[0m\u001b[1;33m:\u001b[0m\u001b[1;33m,\u001b[0m\u001b[1;36m22\u001b[0m\u001b[1;33m,\u001b[0m\u001b[1;33m:\u001b[0m\u001b[1;33m,\u001b[0m\u001b[0mt\u001b[0m\u001b[1;33m]\u001b[0m\u001b[1;33m\u001b[0m\u001b[1;33m\u001b[0m\u001b[0m\n\u001b[0m",
      "\u001b[1;31mNameError\u001b[0m: name 'lamb2test' is not defined"
     ]
    }
   ],
   "source": [
    "# lamb2test[:,22,:,t]"
   ]
  },
  {
   "cell_type": "code",
   "execution_count": 6,
   "metadata": {},
   "outputs": [
    {
     "data": {
      "text/plain": [
       "array([[ 0.0000000e+00,  0.0000000e+00,  0.0000000e+00, ...,\n",
       "        -1.4792011e-11,  0.0000000e+00,  0.0000000e+00],\n",
       "       [ 0.0000000e+00,  0.0000000e+00,  0.0000000e+00, ...,\n",
       "         0.0000000e+00,  0.0000000e+00, -3.5463373e-12],\n",
       "       [ 0.0000000e+00,  0.0000000e+00,  0.0000000e+00, ...,\n",
       "        -5.3481896e-11, -3.1956196e-10, -8.8617497e-10],\n",
       "       ...,\n",
       "       [ 0.0000000e+00,  0.0000000e+00, -1.4779304e-10, ...,\n",
       "         0.0000000e+00,  0.0000000e+00,  0.0000000e+00],\n",
       "       [ 0.0000000e+00,  0.0000000e+00,  0.0000000e+00, ...,\n",
       "        -2.3594604e-11, -1.0581950e-11,  0.0000000e+00],\n",
       "       [ 0.0000000e+00,  0.0000000e+00,  0.0000000e+00, ...,\n",
       "        -9.5671068e-11, -2.3561286e-10, -4.7336257e-10]], dtype=float32)"
      ]
     },
     "execution_count": 6,
     "metadata": {},
     "output_type": "execute_result"
    }
   ],
   "source": [
    "lamb2sam[:,22,:,t]"
   ]
  },
  {
   "cell_type": "code",
   "execution_count": 7,
   "metadata": {},
   "outputs": [
    {
     "data": {
      "text/plain": [
       "array([[ 0.0000000e+00,  0.0000000e+00,  0.0000000e+00, ...,\n",
       "        -1.4792015e-11,  0.0000000e+00,  0.0000000e+00],\n",
       "       [ 0.0000000e+00,  0.0000000e+00,  0.0000000e+00, ...,\n",
       "         0.0000000e+00,  0.0000000e+00, -3.5463325e-12],\n",
       "       [ 0.0000000e+00,  0.0000000e+00,  0.0000000e+00, ...,\n",
       "        -5.3481889e-11, -3.1956193e-10, -8.8617491e-10],\n",
       "       ...,\n",
       "       [ 0.0000000e+00,  0.0000000e+00, -1.4779303e-10, ...,\n",
       "         0.0000000e+00,  0.0000000e+00,  0.0000000e+00],\n",
       "       [ 0.0000000e+00,  0.0000000e+00,  0.0000000e+00, ...,\n",
       "        -2.3594604e-11, -1.0581947e-11,  0.0000000e+00],\n",
       "       [ 0.0000000e+00,  0.0000000e+00,  0.0000000e+00, ...,\n",
       "        -9.5671061e-11, -2.3561289e-10, -4.7336263e-10]], dtype=float32)"
      ]
     },
     "execution_count": 7,
     "metadata": {},
     "output_type": "execute_result"
    }
   ],
   "source": [
    "lamb2[:,22,:]"
   ]
  },
  {
   "cell_type": "code",
   "execution_count": 35,
   "metadata": {},
   "outputs": [
    {
     "name": "stdout",
     "output_type": "stream",
     "text": [
      "2\n",
      "-1.3419995e-06\n",
      "-7.40591e-06\n"
     ]
    }
   ],
   "source": [
    "t = 2\n",
    "tic = time.perf_counter()\n",
    "from numpy import linalg as LA\n",
    "nx,ny,nz,nt = lp.shape(datau)         \n",
    "print(t)\n",
    "x = [40,40,10]\n",
    "U = datau[:,:,:,t]\n",
    "dUdy,dUdx,dUdz = np.gradient(U,dx,dy,dz)\n",
    "dVdy,dVdx,dVdz = np.gradient(datav[:,:,:,t],dx,dy,dz)\n",
    "dWdy,dWdx,dWdz = np.gradient(dataw[:,:,:,t],dx,dy,dz)\n",
    "print(dWdy[22,22,99])\n",
    "print(U[22,22,99])\n",
    "# lamb2 = np.zeros((nx,ny,nz),dtype = np.float32)\n",
    "# for i in range(0,nx):\n",
    "#         for j in range(0,ny):\n",
    "#             for k in range(0,nz):\n",
    "#                 dudx=dUdx[i,j,k]\n",
    "#                 dudy=dUdy[i,j,k]\n",
    "#                 dudz=dUdz[i,j,k]\n",
    "#                 dvdx=dVdx[i,j,k]\n",
    "#                 dvdy=dVdy[i,j,k]\n",
    "#                 dvdz=dVdz[i,j,k]\n",
    "#                 dwdx=dWdx[i,j,k]\n",
    "#                 dwdy=dWdy[i,j,k]\n",
    "#                 dwdz=dWdz[i,j,k]\n",
    "#                 Om = np.array([[0,dudy-dvdx,dudz-dwdx],\n",
    "#                       [dvdx-dudy,0,dvdz-dwdy],\n",
    "#                       [dwdx-dudz,dwdy-dvdz,0]])\n",
    "#                 Om = Om*0.5\n",
    "#                 S  = np.array([[2*dudx,dudy+dvdx,dudz+dwdx],\n",
    "#                       [dvdx+dudy,2*dvdy,dvdz+dwdy],\n",
    "#                       [dwdx+dudz,dwdy+dvdz,2*dwdz]])\n",
    "#                 S = S*0.5\n",
    "#                 matrix = S.dot(S) + Om.dot(Om)\n",
    "#                 w = LA.eigvals(matrix)\n",
    "#                 w= np.sort(w)\n",
    "#                 if w[1]<0:\n",
    "#                     lamb2[i,j,k] = w[1]\n",
    "# #     return lamb2\n",
    "# toc1 = time.perf_counter()\n",
    "# print(f\"Time: {((toc1 - tic)/60):0.4f} minutes\")"
   ]
  },
  {
   "cell_type": "code",
   "execution_count": 63,
   "metadata": {},
   "outputs": [
    {
     "data": {
      "text/plain": [
       "array([0.5, 0.5, 0.5, 0.5, 0.5, 0.5, 0.5, 0.5, 0.5, 0.5])"
      ]
     },
     "execution_count": 63,
     "metadata": {},
     "output_type": "execute_result"
    }
   ],
   "source": [
    "x = [1,2,3,4,5,6,7,8,9,10]\n",
    "fx = np.gradient(x,2)\n",
    "fx"
   ]
  },
  {
   "cell_type": "code",
   "execution_count": 30,
   "metadata": {},
   "outputs": [],
   "source": [
    "dudy,dudx,dudz= np.gradient(datau[:,:,:,t],dx,dy,dz)\n",
    "dvdy,dvdx,dvdz = np.gradient(datav[:,:,:,t],dx,dy,dz)\n",
    "dwdy,dwdx,dwdz = np.gradient(dataw[:,:,:,t],dx,dy,dz)\n",
    "\n",
    "J = np.array([[dudx,dudy,dudz],[dvdx,dvdy,dvdz],[dwdx,dwdy,dwdz]])"
   ]
  },
  {
   "cell_type": "code",
   "execution_count": 31,
   "metadata": {},
   "outputs": [
    {
     "data": {
      "text/plain": [
       "array([[2, 1, 3],\n",
       "       [5, 4, 6],\n",
       "       [8, 7, 9]])"
      ]
     },
     "execution_count": 31,
     "metadata": {},
     "output_type": "execute_result"
    }
   ],
   "source": [
    "J"
   ]
  },
  {
   "cell_type": "code",
   "execution_count": 27,
   "metadata": {},
   "outputs": [
    {
     "data": {
      "text/plain": [
       "-1.3419995e-06"
      ]
     },
     "execution_count": 27,
     "metadata": {},
     "output_type": "execute_result"
    }
   ],
   "source": [
    "J[2,2,22,22,99]"
   ]
  },
  {
   "cell_type": "code",
   "execution_count": null,
   "metadata": {},
   "outputs": [],
   "source": []
  }
 ],
 "metadata": {
  "kernelspec": {
   "display_name": "Python 3",
   "language": "python",
   "name": "python3"
  },
  "language_info": {
   "codemirror_mode": {
    "name": "ipython",
    "version": 3
   },
   "file_extension": ".py",
   "mimetype": "text/x-python",
   "name": "python",
   "nbconvert_exporter": "python",
   "pygments_lexer": "ipython3",
   "version": "3.7.6"
  }
 },
 "nbformat": 4,
 "nbformat_minor": 4
}
