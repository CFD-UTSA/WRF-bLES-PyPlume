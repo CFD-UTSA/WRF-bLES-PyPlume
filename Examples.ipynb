{
 "cells": [
  {
   "cell_type": "code",
   "execution_count": null,
   "metadata": {},
   "outputs": [],
   "source": [
    "##Importing Package\n",
    "\n",
    "import numpy as np # The fundamental package for scientific computing with Python.\n",
    "import csv  #csv module is for saving the data\n",
    "import pandas as pd #reading data from csv\n",
    "import time # for timming process\n",
    "import LESbplume as lp # importing LESbplume and naming it at lp\n",
    "import os"
   ]
  },
  {
   "cell_type": "code",
   "execution_count": null,
   "metadata": {
    "jupyter": {
     "source_hidden": true
    }
   },
   "outputs": [],
   "source": [
    "## Importing data from .csv files\n",
    "\n",
    "# All .csv data file are in the 1D data shape. Data was orginally in 4D (45,45,700,time) \n",
    "# then converted to 1D for conviniently storing. \n",
    "\n",
    "# Input the time step from 0 to 500\n",
    "Start = 0 \n",
    "End = 540\n",
    "# Data shape:\n",
    "nx = 45\n",
    "ny = 45\n",
    "nz = 700\n",
    "# Eulerian grid size:\n",
    "dx = 40 #meter\n",
    "dy = 40\n",
    "dz = 10\n",
    "dt = 10 #10s ever time step\n",
    "D = 400 #meter\n",
    "\n",
    "sk = Start*45*45*700\n",
    "nt = End - Start\n",
    "n = 45*45*700*nt\n",
    "\n",
    "# Name of the data\n",
    "name = 'Helium_2_T(540)_Omega'\n",
    "path = r'D:\\Documents\\Helium_2\\Helium_2'"
   ]
  },
  {
   "cell_type": "code",
   "execution_count": null,
   "metadata": {
    "jupyter": {
     "source_hidden": true
    }
   },
   "outputs": [],
   "source": [
    "# Please INPUT the path to each file:\n",
    "# EX: for Windows: r\"D:\\Helium_FLUX_1\\He_h01_01_T.csv\"\n",
    "#     for MAC:     r'/Volumes/ThanhPor/Helium_FLUX_1/He_h01_01_W.csv'\n",
    "# If the data is in the same folder then only put the name of the file.\n",
    "\n",
    "dfu = pd.read_csv(path+'_U.csv',skiprows = sk,nrows = 2, header = None)\n",
    "check = str(dfu[0][0])\n",
    "if(check.isnumeric()):\n",
    "    print('')\n",
    "else:\n",
    "    sk = sk+1\n",
    "\n",
    "# #T data\n",
    "# dft = pd.read_csv(path+'_T.csv',skiprows = sk,nrows = n, dtype =np.float32, header = None)\n",
    "# datat = dft.to_numpy()\n",
    "# datat = np.reshape(datat, (nx,ny,nz,nt), order=\"F\") #reshaping data to (45,45,700,timestep) in the \"F\" order\n",
    "# del dft\n",
    "\n",
    "# U data\n",
    "dfu = pd.read_csv(path+'_U.csv',skiprows = sk,nrows = n, dtype =np.float32, header = None)\n",
    "datau = dfu.to_numpy()\n",
    "datau = np.reshape(datau,  (nx,ny,nz,nt), order=\"F\")\n",
    "del dfu\n",
    "\n",
    "# V data\n",
    "dfv = pd.read_csv(path+'_V.csv',skiprows = sk,nrows = n, dtype =np.float32, header = None)\n",
    "datav = dfv.to_numpy()\n",
    "datav = np.reshape(datav,  (nx,ny,nz,nt), order=\"F\")\n",
    "del dfv\n",
    "\n",
    "# W data\n",
    "dfw = pd.read_csv(path+'_W.csv',skiprows = sk,nrows = n, dtype =np.float32, header = None)\n",
    "dataw = dfw.to_numpy()\n",
    "dataw = np.reshape(dataw,  (nx,ny,nz,nt), order=\"F\")\n",
    "del dfw"
   ]
  },
  {
   "cell_type": "code",
   "execution_count": null,
   "metadata": {
    "jupyter": {
     "source_hidden": true
    }
   },
   "outputs": [],
   "source": [
    "# Plumehalf graph\n",
    "# Estimated time: ~1 minutes\n",
    "# Input (u,v,w,threshold,dx,dy,dz,D,graphname)\n",
    "\n",
    "threshold = 1/np.exp(1) #input threshold\n",
    "lp.plumehalfgraph(dataw,datat,threshold,dx,dy,dz,D,name) #plumehalfgraph function\n"
   ]
  },
  {
   "cell_type": "code",
   "execution_count": null,
   "metadata": {
    "jupyter": {
     "source_hidden": true
    }
   },
   "outputs": [],
   "source": [
    "# Top_view_graph\n",
    "# Estimated time: ~1 minutes\n",
    "# Input (data(w or t),type_data,file_name,dx,dy,dz,D,frame) * more frame will take longer\n",
    "\n",
    "datatype = \"W/Wc\" # \"W/Wc\" or \"T\"/Tc\"\n",
    "\n",
    "lp.topviewmap(dataw,datatype,name,dx,dy,dz,D,frame=20)\n",
    "\n"
   ]
  },
  {
   "cell_type": "code",
   "execution_count": null,
   "metadata": {
    "jupyter": {
     "source_hidden": true
    }
   },
   "outputs": [],
   "source": [
    "# Calculate Omega vortex criterion\n",
    "# Estimated time: 8 minutes\n",
    "# Input (u,v,w,dx,dy,dz)\n",
    "\n",
    "tic = time.perf_counter()\n",
    "\n",
    "ome = lp.omega(datau,datav,dataw,dx,dy,dz) # calculated the omega vortex criterion and put it in the 'ome' matrix\n",
    "\n",
    "toc1 = time.perf_counter()\n",
    "print(f\"Finished Time: {((toc1 - tic)/60):0.4f} minutes\")"
   ]
  },
  {
   "cell_type": "code",
   "execution_count": null,
   "metadata": {
    "jupyter": {
     "source_hidden": true
    }
   },
   "outputs": [],
   "source": [
    "#delete in case running out of memeory\n",
    "# del ome"
   ]
  },
  {
   "cell_type": "code",
   "execution_count": null,
   "metadata": {
    "jupyter": {
     "source_hidden": true
    }
   },
   "outputs": [],
   "source": [
    "# Converting Cartesian to Polar\n",
    "# Estimated time: 1 mins\n",
    "# Input (u,v,w,dx,dy,dz)\n",
    "\n",
    "tic = time.perf_counter()\n",
    "\n",
    "Ur,Utheta,Uw = lp.cart2pol(datau,datav,dataw,dx,dy,dz)\n",
    "\n",
    "toc1 = time.perf_counter()\n",
    "print(f\"Time: {toc1 - tic:0.4f} seconds\")"
   ]
  },
  {
   "cell_type": "code",
   "execution_count": null,
   "metadata": {
    "jupyter": {
     "source_hidden": true
    }
   },
   "outputs": [],
   "source": [
    "# del Ur,Utheta,Uw"
   ]
  },
  {
   "cell_type": "code",
   "execution_count": null,
   "metadata": {
    "jupyter": {
     "source_hidden": true
    }
   },
   "outputs": [],
   "source": [
    "# Calculate Lambda2 \n",
    "# Estimated time: 2h-3h for 500 time-step\n",
    "# Input (u,v,w,dx,dy,dz)\n",
    "\n",
    "tic = time.perf_counter()  \n",
    "lamb2 = lp.lambda2(datau,datav,dataw,dx=40,dy=40,dz=10)\n",
    "toc1 = time.perf_counter()\n",
    "print(f\"Time: {((toc1 - tic)/60):0.4f} minutes\")"
   ]
  },
  {
   "cell_type": "code",
   "execution_count": null,
   "metadata": {},
   "outputs": [],
   "source": [
    "#delete in case running out of memeory\n",
    "# del lamb2"
   ]
  },
  {
   "cell_type": "code",
   "execution_count": null,
   "metadata": {
    "jupyter": {
     "source_hidden": true
    }
   },
   "outputs": [],
   "source": [
    "# Saving calculated data like Omega or Lambda2\n",
    "# Estimated time: 30 minutes for 500 time steps\n",
    "\n",
    "#INPUT : \n",
    "filedata = lamb2 #omega matrix 'ome'\n",
    "vortex_criterion = \"lambda2\" #omega or lambda2 or other criterion\n",
    "#savecsv function\n",
    "filename = name +'_'+ vortex_criterion #name of the file\n",
    "lp.savecsv(filedata,filename)\n"
   ]
  },
  {
   "cell_type": "code",
   "execution_count": null,
   "metadata": {
    "jupyter": {
     "source_hidden": true
    }
   },
   "outputs": [],
   "source": [
    "tic = time.perf_counter()\n",
    "data = ome\n",
    "isovalue = 0.52 #omega\n",
    "# isovalue = -np.exp(-9) #lamda2\n",
    "lp.isosurface(data,isovalue,name)\n",
    "toc1 = time.perf_counter()\n",
    "print(f\"Finished Time: {((toc1 - tic)/60):0.4f} minutes\")"
   ]
  },
  {
   "cell_type": "code",
   "execution_count": null,
   "metadata": {},
   "outputs": [],
   "source": [
    "# Calling the generate_video function \n",
    "# path= r'C:\\Users\\thanh\\iCloudDrive\\Fluidlab\\Fluidlab\\Helium_2(540)_lambda2'\n",
    "# lp.generate_video(path)\n",
    "# path= r'C:\\Users\\thanh\\iCloudDrive\\Fluidlab\\Fluidlab\\Helium_2_T(540)_Omega'\n",
    "# lp.generate_video(path)\n",
    "# path= r'C:\\Users\\thanh\\iCloudDrive\\Fluidlab\\Fluidlab\\Helium_FLUX_1(540)_lambda2'\n",
    "# lp.generate_video(path)\n",
    "path= r'C:\\Users\\thanh\\iCloudDrive\\Fluidlab\\Fluidlab\\Helium_FLUX_1(540)_Omega'\n",
    "lp.generate_video(path)\n",
    "path= r'C:\\Users\\thanh\\iCloudDrive\\Fluidlab\\Fluidlab\\Helium_NOFLUX_00(540)_Omega'\n",
    "lp.generate_video(path)\n",
    "path= r'C:\\Users\\thanh\\iCloudDrive\\Fluidlab\\Fluidlab\\Helium_NOFLUX_00_lambda2'\n",
    "lp.generate_video(path)\n",
    "path= r'C:\\Users\\thanh\\iCloudDrive\\Fluidlab\\Fluidlab\\NBL_3D_F100_600_Hot_Buoyant(540)_lambda2'\n",
    "lp.generate_video(path)\n",
    "path= r'C:\\Users\\thanh\\iCloudDrive\\Fluidlab\\Fluidlab\\NBL_3D_F100_600_Hot_Buoyant(540)_Omega'\n",
    "lp.generate_video(path)"
   ]
  },
  {
   "cell_type": "code",
   "execution_count": null,
   "metadata": {},
   "outputs": [],
   "source": []
  }
 ],
 "metadata": {
  "kernelspec": {
   "display_name": "Python 3",
   "language": "python",
   "name": "python3"
  },
  "language_info": {
   "codemirror_mode": {
    "name": "ipython",
    "version": 3
   },
   "file_extension": ".py",
   "mimetype": "text/x-python",
   "name": "python",
   "nbconvert_exporter": "python",
   "pygments_lexer": "ipython3",
   "version": "3.7.6"
  }
 },
 "nbformat": 4,
 "nbformat_minor": 4
}
