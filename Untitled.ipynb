{
 "cells": [
  {
   "cell_type": "code",
   "execution_count": 1,
   "metadata": {},
   "outputs": [
    {
     "ename": "SyntaxError",
     "evalue": "invalid syntax (<ipython-input-1-1b138b1ccab9>, line 2)",
     "output_type": "error",
     "traceback": [
      "\u001b[1;36m  File \u001b[1;32m\"<ipython-input-1-1b138b1ccab9>\"\u001b[1;36m, line \u001b[1;32m2\u001b[0m\n\u001b[1;33m    cd $SCRATCH\u001b[0m\n\u001b[1;37m       ^\u001b[0m\n\u001b[1;31mSyntaxError\u001b[0m\u001b[1;31m:\u001b[0m invalid syntax\n"
     ]
    }
   ],
   "source": [
    "# stage executable and data\n",
    "cd $SCRATCH\n",
    "mkdir testrunA\n",
    "cp $WORK/myprogram testrunA\n",
    "cp $WORK/jobinputdata testrunA\n",
    "\n",
    "# launch program\n",
    "ibrun testrunA/myprogram testrunA/myinputdata > testrunA/output\n",
    "\n",
    "# copy results back permanent storage once job is done\n",
    "cp testrunA/output $WORK/savetestrunA"
   ]
  },
  {
   "cell_type": "code",
   "execution_count": null,
   "metadata": {},
   "outputs": [],
   "source": []
  }
 ],
 "metadata": {
  "kernelspec": {
   "display_name": "Python 3",
   "language": "python",
   "name": "python3"
  },
  "language_info": {
   "codemirror_mode": {
    "name": "ipython",
    "version": 3
   },
   "file_extension": ".py",
   "mimetype": "text/x-python",
   "name": "python",
   "nbconvert_exporter": "python",
   "pygments_lexer": "ipython3",
   "version": "3.7.6"
  }
 },
 "nbformat": 4,
 "nbformat_minor": 4
}
