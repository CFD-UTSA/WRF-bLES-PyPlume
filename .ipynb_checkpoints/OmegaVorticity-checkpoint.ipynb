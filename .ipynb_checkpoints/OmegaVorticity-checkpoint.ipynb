{
 "cells": [
  {
   "cell_type": "code",
   "execution_count": 74,
   "metadata": {},
   "outputs": [
    {
     "name": "stdout",
     "output_type": "stream",
     "text": [
      "50\n",
      "(70875000, 1)\n",
      "Downloaded the tutorial in 53.8861 seconds\n"
     ]
    }
   ],
   "source": [
    "import numpy as np\n",
    "import pandas as pd\n",
    "import time\n",
    "import skimage.measure\n",
    "import matplotlib.pyplot as plt\n",
    "from sklearn.linear_model import LinearRegression\n",
    "from matplotlib import animation\n",
    "import matplotlib.patches as mpatches\n",
    "from numpy import diff\n",
    "\n",
    "#Transpose of 3x3 matrix\n",
    "def TP(x): \n",
    "    a11 = x[0,0]\n",
    "    a12 = x[0,1]\n",
    "    a13 = x[0,2]\n",
    "    a21 = x[1,0]\n",
    "    a22 = x[1,1]\n",
    "    a23 = x[1,2]\n",
    "    a31 = x[2,0]\n",
    "    a32 = x[2,1]\n",
    "    a33 = x[2,2]\n",
    "    x = np.array([[a11,a21,a31],[a12,a22,a32],[a13,a23,a33]])\n",
    "    return x\n",
    "#multiply of 3x3 matrices\n",
    "def DT(x,y):\n",
    "    a11 = x[0,0]*y[0,0]+x[0,1]*y[1,0]+x[0,2]*y[2,0]\n",
    "    a12 = x[0,0]*y[0,1]+x[0,1]*y[1,1]+x[0,2]*y[2,1]\n",
    "    a13 = x[0,0]*y[0,2]+x[0,1]*y[1,2]+x[0,2]*y[2,2]\n",
    "    a21 = x[1,0]*y[0,0]+x[1,1]*y[1,0]+x[1,2]*y[2,0]\n",
    "    a22 = x[1,0]*y[0,1]+x[1,1]*y[1,1]+x[1,2]*y[2,1]\n",
    "    a23 = x[1,0]*y[0,2]+x[1,1]*y[1,2]+x[1,2]*y[2,2]\n",
    "    a31 = x[2,0]*y[0,0]+x[2,1]*y[1,0]+x[2,2]*y[2,0]\n",
    "    a32 = x[2,0]*y[0,1]+x[2,1]*y[1,1]+x[2,2]*y[2,1]\n",
    "    a33 = x[2,0]*y[0,2]+x[2,1]*y[1,2]+x[2,2]*y[2,2]\n",
    "    x = np.array([[a11,a21,a31],[a12,a22,a32],[a13,a23,a33]])\n",
    "    return x\n",
    "#trace of 3x3 matrix(AT A)\n",
    "def TRA(x):\n",
    "    tra = (x[0,0]*x[1,1]*x[2,2])\n",
    "    return tra\n",
    "\n",
    "i = 0 # i1 for T, i2 for U, I3 for V, i4 for W, i5 for all data\n",
    "Start = 250 # numer of rows in dataset\n",
    "End = 300# time start\n",
    "\n",
    "sk = Start*45*45*700\n",
    "nr = End - Start\n",
    "n = 45*45*700*nr\n",
    "nx = 45\n",
    "ny = 45\n",
    "nz = 700\n",
    "dx = 400\n",
    "print(nr)\n",
    "\n",
    "#Importing data\n",
    "\n",
    "tic = time.perf_counter()\n",
    "# dft = pd.read_csv('/Users/thanhtran/Dr.Bh_lab/Helium_FLUX_1/He_h01_01_T.csv',skiprows = sk,nrows = n, dtype =np.float32)\n",
    "# datat = dft.to_numpy()\n",
    "dfu = pd.read_csv('C:/Users/Sound of Silence/Desktop/Helium_FLUX_1/He_h01_01_U.csv',skiprows = sk,nrows = n, header = None, dtype =np.float32)#header = None)\n",
    "datau = dfu.to_numpy()\n",
    "print(datau.shape)\n",
    "del dfu\n",
    "dfv = pd.read_csv('C:/Users/Sound of Silence/Desktop/Helium_FLUX_1/He_h01_01_V.csv',skiprows = sk,nrows = n, header = None, dtype =np.float32)#header = None)\n",
    "datav = dfv.to_numpy()\n",
    "del dfv\n",
    "dfw = pd.read_csv('C:/Users/Sound of Silence/Desktop/Helium_FLUX_1/He_h01_01_W.csv',skiprows = sk,nrows = n, header = None, dtype =np.float32)#header = None)\n",
    "dataw = dfw.to_numpy()\n",
    "del dfw\n",
    "toc = time.perf_counter()\n",
    "print(f\"Downloaded the tutorial in {toc - tic:0.4f} seconds\")\n",
    "\n",
    "#Shaping data into actural shape (45*45*700)\n",
    "# datat = np.reshape(datat, (nx,ny,nz,nr), order=\"F\")\n",
    "datau = np.reshape(datau, (nx,ny,nz,nr), order=\"F\")\n",
    "datav = np.reshape(datav, (nx,ny,nz,nr), order=\"F\")\n",
    "dataw = np.reshape(dataw, (nx,ny,nz,nr), order=\"F\")"
   ]
  },
  {
   "cell_type": "code",
   "execution_count": 75,
   "metadata": {},
   "outputs": [
    {
     "name": "stdout",
     "output_type": "stream",
     "text": [
      "Downloaded the tutorial in 40.2772 seconds\n"
     ]
    }
   ],
   "source": [
    "dx = dy = 40\n",
    "dz = 10\n",
    "\n",
    "import fluidlab as fl\n",
    "dataud,datavd,datawd = fl.uvw_wcdless(datau,datav,dataw)\n",
    "tic = time.perf_counter()\n",
    "omega=np.zeros((nx,ny,nz,nr),dtype=np.float32)\n",
    "for t in range(0,nr):\n",
    "    gu = np.gradient(dataud[:,:,:,t],dx,dy,dz)\n",
    "    gv = np.gradient(datavd[:,:,:,t],dx,dy,dz)\n",
    "    gw = np.gradient(datawd[:,:,:,t],dx,dy,dz)\n",
    "    \n",
    "    GV = np.array([[gu[0],gv[0],gw[0]],[gu[1],gv[1],gw[1]],[gu[2],gv[2],gw[2]]])\n",
    "    GVT = TP(GV)\n",
    "\n",
    "    A = 0.5*(GV+GVT)\n",
    "    B = 0.5*(GV-GVT)\n",
    "    AT = TP(A)\n",
    "    BT = TP(B)\n",
    "    ATA = DT(AT,A)\n",
    "    BTB = DT(BT,B)\n",
    "    a = TRA(ATA)\n",
    "    b = TRA(BTB)\n",
    "    ef=0.001*np.max(b-a)\n",
    "    omega[:,:,:,t] = b/(a+b+ef)\n",
    "toc = time.perf_counter()\n",
    "print(f\"Downloaded the tutorial in {toc - tic:0.4f} seconds\")"
   ]
  },
  {
   "cell_type": "code",
   "execution_count": null,
   "metadata": {},
   "outputs": [],
   "source": [
    "tic = time.perf_counter()\n",
    "#Saving File\n",
    "\n",
    "filename = \"omega_org.csv\"\n",
    "filedata = omega\n",
    "\n",
    "import csv\n",
    "nx,ny,nz,nt = filedata.shape[0],filedata.shape[1],filedata.shape[2],filedata.shape[3]\n",
    "filedata = np.reshape(filedata, (nx*ny*nz*nt,1), order=\"F\")\n",
    "# writing to csv file  \n",
    "with open(filename, 'w') as csvfile:  \n",
    "    # creating a csv writer object  \n",
    "    csvwriter = csv.writer(csvfile) \n",
    "    # writing the data rows   \n",
    "    csvwriter.writerows(filedata)\n",
    "toc = time.perf_counter()\n",
    "print(f\"Downloaded the tutorial in {toc - tic:0.4f} seconds\")"
   ]
  },
  {
   "cell_type": "code",
   "execution_count": 76,
   "metadata": {},
   "outputs": [
    {
     "name": "stdout",
     "output_type": "stream",
     "text": [
      "98.0%\r"
     ]
    }
   ],
   "source": [
    "# def omega_single(datau,datav,dataw,dx,dy,dz,t):\n",
    "#     percent = np.str(np.round(t/datau.shape[3]*100))+\"%\"\n",
    "#     print('{}\\r'.format(percent), end=\"\")\n",
    "\n",
    "#     gu = np.gradient(datau[:,:,:,t],dx,dy,dz)\n",
    "#     gv = np.gradient(datav[:,:,:,t],dx,dy,dz)\n",
    "#     gw = np.gradient(dataw[:,:,:,t],dx,dy,dz)\n",
    "    \n",
    "  \n",
    "#     GV = np.array([[gu[0],gv[0],gw[0]],[gu[1],gv[1],gw[1]],[gu[2],gv[2],gw[2]]])\n",
    "#     GVT = TP(GV)\n",
    "\n",
    "#     A = 0.5*(GV+GVT)\n",
    "#     B = 0.5*(GV-GVT)\n",
    "#     AT = TP(A)\n",
    "#     BT = TP(B)\n",
    "#     ATA = DT(AT,A)\n",
    "#     BTB = DT(BT,B)\n",
    "#     a = TRA(ATA)\n",
    "#     b = TRA(BTB)\n",
    "#     ef=0.001*np.max(b-a)\n",
    "#     result = (b/(a+b+ef))\n",
    "#     return result\n",
    "\n",
    "\n",
    "# # In[10]:\n",
    "\n",
    "\n",
    "# def omegaf(datau,datav,dataw,dx,dy,dz):\n",
    "# #     print('hi')\n",
    "# #     if (sameshape3(datau,datav,dataw) is False):\n",
    "# #         return\n",
    "#     np.seterr(divide='ignore', invalid='ignore')\n",
    "# #     datau,datav,dataw = uvw_wcdless(datau,datav,dataw)\n",
    "    \n",
    "#     ome=np.zeros((datau.shape[0],datau.shape[1],datau.shape[2],datau.shape[3]),dtype=np.float32)\n",
    "#     for t in range(0,datau.shape[3]):\n",
    "#         ome[:,:,:,t] = omega_single(datau,datav,dataw,dx,dy,dz,t)\n",
    "# #     ome = np.nan_to_num(ome)\n",
    "#     return ome\n",
    "\n",
    "# # call the function\n",
    "# omefl2 = omegaf(dataud,datavd,datawd,40,40,10)\n",
    "omefl1 = fl.omega(datau,datav,dataw,dx=40,dy=40,dz=10)"
   ]
  },
  {
   "cell_type": "code",
   "execution_count": 77,
   "metadata": {},
   "outputs": [
    {
     "data": {
      "text/plain": [
       "array([[2.73183763e-01, 1.38957202e-01, 5.00117382e-03, ...,\n",
       "        1.37200584e-14, 3.24833806e-11, 4.75537332e-10],\n",
       "       [4.69106846e-02, 1.41362756e-01, 9.72300360e-04, ...,\n",
       "        2.55345587e-14, 4.64143806e-13, 9.51932561e-11],\n",
       "       [1.49878725e-01, 1.69142932e-01, 4.97946516e-04, ...,\n",
       "        7.55283524e-15, 5.34884637e-11, 1.20916233e-09],\n",
       "       ...,\n",
       "       [4.30488706e-01, 1.79082632e-01, 1.07550723e-02, ...,\n",
       "        1.02470644e-13, 1.22754598e-10, 2.87684743e-09],\n",
       "       [5.04572272e-01, 5.65396920e-02, 3.31456476e-06, ...,\n",
       "        1.74401712e-14, 9.60104565e-11, 2.02798067e-09],\n",
       "       [3.93019676e-01, 2.70444620e-02, 1.20658730e-03, ...,\n",
       "        4.69050322e-14, 8.52043262e-12, 3.04323546e-11]], dtype=float32)"
      ]
     },
     "execution_count": 77,
     "metadata": {},
     "output_type": "execute_result"
    }
   ],
   "source": [
    "omega[22,:,:,1]"
   ]
  },
  {
   "cell_type": "code",
   "execution_count": 78,
   "metadata": {},
   "outputs": [
    {
     "data": {
      "text/plain": [
       "array([[2.73183763e-01, 1.38957202e-01, 5.00117382e-03, ...,\n",
       "        1.37200584e-14, 3.24833806e-11, 4.75537332e-10],\n",
       "       [4.69106846e-02, 1.41362756e-01, 9.72300360e-04, ...,\n",
       "        2.55345587e-14, 4.64143806e-13, 9.51932561e-11],\n",
       "       [1.49878725e-01, 1.69142932e-01, 4.97946516e-04, ...,\n",
       "        7.55283524e-15, 5.34884637e-11, 1.20916233e-09],\n",
       "       ...,\n",
       "       [4.30488706e-01, 1.79082632e-01, 1.07550723e-02, ...,\n",
       "        1.02470644e-13, 1.22754598e-10, 2.87684743e-09],\n",
       "       [5.04572272e-01, 5.65396920e-02, 3.31456476e-06, ...,\n",
       "        1.74401712e-14, 9.60104565e-11, 2.02798067e-09],\n",
       "       [3.93019676e-01, 2.70444620e-02, 1.20658730e-03, ...,\n",
       "        4.69050322e-14, 8.52043262e-12, 3.04323546e-11]], dtype=float32)"
      ]
     },
     "execution_count": 78,
     "metadata": {},
     "output_type": "execute_result"
    }
   ],
   "source": [
    "omefl1[22,:,:,1]"
   ]
  },
  {
   "cell_type": "code",
   "execution_count": 79,
   "metadata": {},
   "outputs": [],
   "source": [
    "# omefl2[22,:,:,1]"
   ]
  },
  {
   "cell_type": "code",
   "execution_count": 84,
   "metadata": {},
   "outputs": [
    {
     "name": "stdout",
     "output_type": "stream",
     "text": [
      "Downloaded the tutorial in 201.8500 seconds\n"
     ]
    }
   ],
   "source": [
    "tic = time.perf_counter()\n",
    "#Saving File\n",
    "\n",
    "filename = \"omega_org.csv\"\n",
    "filedata = omega\n",
    "\n",
    "import csv\n",
    "nx,ny,nz,nt = filedata.shape[0],filedata.shape[1],filedata.shape[2],filedata.shape[3]\n",
    "filedata = np.reshape(filedata, (nx*ny*nz*nt,1), order=\"F\")\n",
    "# writing to csv file  \n",
    "with open(filename, 'w') as csvfile:  \n",
    "    # creating a csv writer object  \n",
    "    csvwriter = csv.writer(csvfile) \n",
    "    # writing the data rows   \n",
    "    csvwriter.writerows(filedata)\n",
    "toc = time.perf_counter()\n",
    "print(f\"Downloaded the tutorial in {toc - tic:0.4f} seconds\")"
   ]
  },
  {
   "cell_type": "code",
   "execution_count": 81,
   "metadata": {},
   "outputs": [
    {
     "name": "stdout",
     "output_type": "stream",
     "text": [
      "(70875000, 1)\n"
     ]
    }
   ],
   "source": [
    "dfu = pd.read_csv('omegafl.csv', header = None, dtype =np.float32)\n",
    "dtest = dfu.to_numpy()\n",
    "print(dtest.shape)\n",
    "dtest = np.reshape(dtest, (nx,ny,nz,nr), order=\"F\")"
   ]
  },
  {
   "cell_type": "code",
   "execution_count": 82,
   "metadata": {},
   "outputs": [
    {
     "data": {
      "text/plain": [
       "array([[2.73183763e-01, 1.38957202e-01, 5.00117382e-03, ...,\n",
       "        1.37200584e-14, 3.24833806e-11, 4.75537332e-10],\n",
       "       [4.69106846e-02, 1.41362756e-01, 9.72300360e-04, ...,\n",
       "        2.55345587e-14, 4.64143806e-13, 9.51932561e-11],\n",
       "       [1.49878725e-01, 1.69142932e-01, 4.97946516e-04, ...,\n",
       "        7.55283524e-15, 5.34884637e-11, 1.20916233e-09],\n",
       "       ...,\n",
       "       [4.30488706e-01, 1.79082632e-01, 1.07550723e-02, ...,\n",
       "        1.02470644e-13, 1.22754598e-10, 2.87684743e-09],\n",
       "       [5.04572272e-01, 5.65396920e-02, 3.31456476e-06, ...,\n",
       "        1.74401712e-14, 9.60104565e-11, 2.02798067e-09],\n",
       "       [3.93019676e-01, 2.70444620e-02, 1.20658730e-03, ...,\n",
       "        4.69050322e-14, 8.52043262e-12, 3.04323546e-11]], dtype=float32)"
      ]
     },
     "execution_count": 82,
     "metadata": {},
     "output_type": "execute_result"
    }
   ],
   "source": [
    "dtest[22,:,:,1]"
   ]
  },
  {
   "cell_type": "code",
   "execution_count": 83,
   "metadata": {},
   "outputs": [
    {
     "data": {
      "text/plain": [
       "array([[2.73183763e-01, 1.38957202e-01, 5.00117382e-03, ...,\n",
       "        1.37200584e-14, 3.24833806e-11, 4.75537332e-10],\n",
       "       [4.69106846e-02, 1.41362756e-01, 9.72300360e-04, ...,\n",
       "        2.55345587e-14, 4.64143806e-13, 9.51932561e-11],\n",
       "       [1.49878725e-01, 1.69142932e-01, 4.97946516e-04, ...,\n",
       "        7.55283524e-15, 5.34884637e-11, 1.20916233e-09],\n",
       "       ...,\n",
       "       [4.30488706e-01, 1.79082632e-01, 1.07550723e-02, ...,\n",
       "        1.02470644e-13, 1.22754598e-10, 2.87684743e-09],\n",
       "       [5.04572272e-01, 5.65396920e-02, 3.31456476e-06, ...,\n",
       "        1.74401712e-14, 9.60104565e-11, 2.02798067e-09],\n",
       "       [3.93019676e-01, 2.70444620e-02, 1.20658730e-03, ...,\n",
       "        4.69050322e-14, 8.52043262e-12, 3.04323546e-11]], dtype=float32)"
      ]
     },
     "execution_count": 83,
     "metadata": {},
     "output_type": "execute_result"
    }
   ],
   "source": [
    "omefl1[22,:,:,1]"
   ]
  },
  {
   "cell_type": "code",
   "execution_count": null,
   "metadata": {},
   "outputs": [],
   "source": []
  }
 ],
 "metadata": {
  "kernelspec": {
   "display_name": "Python 3",
   "language": "python",
   "name": "python3"
  },
  "language_info": {
   "codemirror_mode": {
    "name": "ipython",
    "version": 3
   },
   "file_extension": ".py",
   "mimetype": "text/x-python",
   "name": "python",
   "nbconvert_exporter": "python",
   "pygments_lexer": "ipython3",
   "version": "3.7.6"
  }
 },
 "nbformat": 4,
 "nbformat_minor": 4
}
