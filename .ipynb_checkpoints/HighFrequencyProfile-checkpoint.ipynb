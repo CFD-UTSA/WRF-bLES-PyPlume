{
 "cells": [
  {
   "cell_type": "code",
   "execution_count": 1,
   "metadata": {},
   "outputs": [],
   "source": [
    "import pyplume as pl\n",
    "import numpy as np\n",
    "from matplotlib import pyplot as plt\n",
    "from matplotlib import rcParams\n",
    "from time import time"
   ]
  },
  {
   "cell_type": "code",
   "execution_count": 2,
   "metadata": {},
   "outputs": [],
   "source": [
    "inputname = 'namelist.input.txt'\n",
    "p1_metadata = pl.plume_metadata(inputname)\n",
    "D  = p1_metadata.D\n",
    "dt = p1_metadata.dt\n",
    "Ta = p1_metadata.Ta\n",
    "g  = p1_metadata.g\n",
    "nu  = p1_metadata.nu\n",
    "threshold = p1_metadata.threshold"
   ]
  },
  {
   "cell_type": "code",
   "execution_count": 3,
   "metadata": {},
   "outputs": [
    {
     "ename": "NameError",
     "evalue": "name 'hf_csv2array' is not defined",
     "output_type": "error",
     "traceback": [
      "\u001b[1;31m---------------------------------------------------------------------------\u001b[0m",
      "\u001b[1;31mNameError\u001b[0m                                 Traceback (most recent call last)",
      "\u001b[1;32m<ipython-input-3-962ee87880ef>\u001b[0m in \u001b[0;36m<module>\u001b[1;34m\u001b[0m\n\u001b[0;32m      2\u001b[0m \u001b[0mdataname\u001b[0m \u001b[1;33m=\u001b[0m \u001b[1;34m\"TH\"\u001b[0m\u001b[1;33m\u001b[0m\u001b[1;33m\u001b[0m\u001b[0m\n\u001b[0;32m      3\u001b[0m \u001b[0mnx\u001b[0m \u001b[1;33m=\u001b[0m \u001b[1;36m57\u001b[0m\u001b[1;33m\u001b[0m\u001b[1;33m\u001b[0m\u001b[0m\n\u001b[1;32m----> 4\u001b[1;33m \u001b[0mpl\u001b[0m\u001b[1;33m.\u001b[0m\u001b[0mhf_csv2mat\u001b[0m\u001b[1;33m(\u001b[0m\u001b[0mfolder\u001b[0m\u001b[1;33m,\u001b[0m\u001b[0mdataname\u001b[0m\u001b[1;33m,\u001b[0m\u001b[0mnx\u001b[0m\u001b[1;33m)\u001b[0m\u001b[1;33m\u001b[0m\u001b[1;33m\u001b[0m\u001b[0m\n\u001b[0m",
      "\u001b[1;32m~\\OneDrive - University of Texas at San Antonio\\LESbplume-Python-Code\\pyplume.py\u001b[0m in \u001b[0;36mhf_csv2mat\u001b[1;34m(folder, datatype, nx)\u001b[0m\n\u001b[0;32m    902\u001b[0m \u001b[1;33m\u001b[0m\u001b[0m\n\u001b[0;32m    903\u001b[0m \u001b[1;32mdef\u001b[0m \u001b[0mhf_csv2mat\u001b[0m\u001b[1;33m(\u001b[0m\u001b[0mfolder\u001b[0m\u001b[1;33m,\u001b[0m\u001b[0mdatatype\u001b[0m\u001b[1;33m,\u001b[0m\u001b[0mnx\u001b[0m\u001b[1;33m)\u001b[0m\u001b[1;33m:\u001b[0m\u001b[1;33m\u001b[0m\u001b[1;33m\u001b[0m\u001b[0m\n\u001b[1;32m--> 904\u001b[1;33m     \u001b[0mdata\u001b[0m \u001b[1;33m=\u001b[0m \u001b[0mhf_fulldata\u001b[0m\u001b[1;33m(\u001b[0m\u001b[0mfolder\u001b[0m\u001b[1;33m,\u001b[0m\u001b[0mdatatype\u001b[0m\u001b[1;33m,\u001b[0m\u001b[0mnx\u001b[0m\u001b[1;33m)\u001b[0m\u001b[1;33m\u001b[0m\u001b[1;33m\u001b[0m\u001b[0m\n\u001b[0m\u001b[0;32m    905\u001b[0m     \u001b[0mfilename\u001b[0m \u001b[1;33m=\u001b[0m \u001b[0mfolder\u001b[0m\u001b[1;33m+\u001b[0m\u001b[1;34m\"\\\\\"\u001b[0m\u001b[1;33m+\u001b[0m\u001b[0mdatatype\u001b[0m\u001b[1;33m\u001b[0m\u001b[1;33m\u001b[0m\u001b[0m\n\u001b[0;32m    906\u001b[0m     \u001b[0msavemat\u001b[0m\u001b[1;33m(\u001b[0m\u001b[0mdata\u001b[0m\u001b[1;33m[\u001b[0m\u001b[1;36m0\u001b[0m\u001b[1;33m:\u001b[0m\u001b[0mint\u001b[0m\u001b[1;33m(\u001b[0m\u001b[0mdx\u001b[0m\u001b[1;33m/\u001b[0m\u001b[1;36m2\u001b[0m\u001b[1;33m+\u001b[0m\u001b[1;36m1\u001b[0m\u001b[1;33m)\u001b[0m\u001b[1;33m]\u001b[0m\u001b[1;33m,\u001b[0m\u001b[0mfilename\u001b[0m\u001b[1;33m+\u001b[0m\u001b[1;34m'_1'\u001b[0m\u001b[1;33m)\u001b[0m\u001b[1;33m\u001b[0m\u001b[1;33m\u001b[0m\u001b[0m\n",
      "\u001b[1;32m~\\OneDrive - University of Texas at San Antonio\\LESbplume-Python-Code\\pyplume.py\u001b[0m in \u001b[0;36mhf_fulldata\u001b[1;34m(folder, dataname, nx)\u001b[0m\n\u001b[0;32m    887\u001b[0m \u001b[1;33m\u001b[0m\u001b[0m\n\u001b[0;32m    888\u001b[0m \u001b[1;32mdef\u001b[0m \u001b[0mhf_fulldata\u001b[0m\u001b[1;33m(\u001b[0m\u001b[0mfolder\u001b[0m\u001b[1;33m,\u001b[0m\u001b[0mdataname\u001b[0m\u001b[1;33m,\u001b[0m\u001b[0mnx\u001b[0m\u001b[1;33m)\u001b[0m\u001b[1;33m:\u001b[0m\u001b[1;33m\u001b[0m\u001b[1;33m\u001b[0m\u001b[0m\n\u001b[1;32m--> 889\u001b[1;33m     \u001b[0mtemp\u001b[0m\u001b[1;33m=\u001b[0m \u001b[0mhf_loadcsv\u001b[0m\u001b[1;33m(\u001b[0m\u001b[0mfolder\u001b[0m\u001b[1;33m+\u001b[0m\u001b[1;34m'\\\\c0001.d01.'\u001b[0m\u001b[1;33m+\u001b[0m\u001b[0mdataname\u001b[0m\u001b[1;33m)\u001b[0m\u001b[1;33m\u001b[0m\u001b[1;33m\u001b[0m\u001b[0m\n\u001b[0m\u001b[0;32m    890\u001b[0m     \u001b[0mnz\u001b[0m\u001b[1;33m,\u001b[0m\u001b[0mnt\u001b[0m \u001b[1;33m=\u001b[0m \u001b[0mnp\u001b[0m\u001b[1;33m.\u001b[0m\u001b[0mshape\u001b[0m\u001b[1;33m(\u001b[0m\u001b[0mtemp\u001b[0m\u001b[1;33m)\u001b[0m\u001b[1;33m\u001b[0m\u001b[1;33m\u001b[0m\u001b[0m\n\u001b[0;32m    891\u001b[0m     \u001b[0mhfdata\u001b[0m \u001b[1;33m=\u001b[0m \u001b[0mnp\u001b[0m\u001b[1;33m.\u001b[0m\u001b[0mzeros\u001b[0m\u001b[1;33m(\u001b[0m\u001b[1;33m(\u001b[0m\u001b[0mnx\u001b[0m\u001b[1;33m,\u001b[0m\u001b[0mnz\u001b[0m\u001b[1;33m,\u001b[0m\u001b[0mnt\u001b[0m\u001b[1;33m)\u001b[0m\u001b[1;33m)\u001b[0m\u001b[1;33m\u001b[0m\u001b[1;33m\u001b[0m\u001b[0m\n",
      "\u001b[1;32m~\\OneDrive - University of Texas at San Antonio\\LESbplume-Python-Code\\pyplume.py\u001b[0m in \u001b[0;36mhf_loadcsv\u001b[1;34m(filename)\u001b[0m\n\u001b[0;32m    882\u001b[0m \u001b[1;32mdef\u001b[0m \u001b[0mhf_loadcsv\u001b[0m\u001b[1;33m(\u001b[0m\u001b[0mfilename\u001b[0m\u001b[1;33m)\u001b[0m\u001b[1;33m:\u001b[0m\u001b[1;33m\u001b[0m\u001b[1;33m\u001b[0m\u001b[0m\n\u001b[0;32m    883\u001b[0m     \u001b[0mtemp\u001b[0m \u001b[1;33m=\u001b[0m \u001b[0mpd\u001b[0m\u001b[1;33m.\u001b[0m\u001b[0mread_csv\u001b[0m\u001b[1;33m(\u001b[0m\u001b[0mfilename\u001b[0m\u001b[1;33m,\u001b[0m\u001b[0mskiprows\u001b[0m\u001b[1;33m=\u001b[0m\u001b[1;36m1\u001b[0m\u001b[1;33m,\u001b[0m\u001b[0mheader\u001b[0m\u001b[1;33m=\u001b[0m\u001b[1;32mNone\u001b[0m\u001b[1;33m)\u001b[0m\u001b[1;33m\u001b[0m\u001b[1;33m\u001b[0m\u001b[0m\n\u001b[1;32m--> 884\u001b[1;33m     \u001b[0mtemp\u001b[0m\u001b[1;33m=\u001b[0m \u001b[0mhf_csv2array\u001b[0m\u001b[1;33m(\u001b[0m\u001b[0mtemp\u001b[0m\u001b[1;33m)\u001b[0m\u001b[1;33m\u001b[0m\u001b[1;33m\u001b[0m\u001b[0m\n\u001b[0m\u001b[0;32m    885\u001b[0m     \u001b[0mtemp\u001b[0m \u001b[1;33m=\u001b[0m \u001b[0mtemp\u001b[0m\u001b[1;33m.\u001b[0m\u001b[0mT\u001b[0m\u001b[1;33m\u001b[0m\u001b[1;33m\u001b[0m\u001b[0m\n\u001b[0;32m    886\u001b[0m     \u001b[1;32mreturn\u001b[0m \u001b[0mtemp\u001b[0m\u001b[1;33m\u001b[0m\u001b[1;33m\u001b[0m\u001b[0m\n",
      "\u001b[1;31mNameError\u001b[0m: name 'hf_csv2array' is not defined"
     ]
    }
   ],
   "source": [
    "folder = r'C:\\Users\\thanh\\OneDrive - University of Texas at San Antonio\\Data\\nlb.HF.CO2.h.5.0\\instantaneous'\n",
    "dataname = \"TH\"\n",
    "nx = 57\n",
    "pl.hf_csv2mat(folder,dataname,nx)"
   ]
  },
  {
   "cell_type": "code",
   "execution_count": 3,
   "metadata": {},
   "outputs": [],
   "source": [
    "#Path to data folder\n",
    "folder = r'C:\\Users\\thanh\\OneDrive - University of Texas at San Antonio\\Data\\nlb.HF.CO2.h.5.0\\instantaneous'"
   ]
  },
  {
   "cell_type": "code",
   "execution_count": null,
   "metadata": {},
   "outputs": [],
   "source": [
    "# Combining all CSV files into one matfile \n",
    "# You only do this onece\n",
    "# Take long time\n",
    "\n",
    "# start = time()\n",
    "# hf_csv2mat(folder+'\\\\c0001.d01.QP')\n",
    "# hf_csv2mat(folder+'\\\\c0001.d01.PR')\n",
    "# hf_csv2mat(folder+'\\\\c0001.d01.TH')\n",
    "# hf_csv2mat(folder+'\\\\c0001.d01.UU')\n",
    "# hf_csv2mat(folder+'\\\\c0001.d01.VV')\n",
    "# hf_csv2mat(folder+'\\\\c0001.d01.WW')\n",
    "# end = time()\n",
    "# print((end-start)/60)"
   ]
  },
  {
   "cell_type": "code",
   "execution_count": null,
   "metadata": {
    "jupyter": {
     "source_hidden": true
    }
   },
   "outputs": [],
   "source": [
    "def hf_contour(data,interface,dx,dz,D,threshold,title):\n",
    "    import numpy as np\n",
    "    import matplotlib.pyplot as plt\n",
    "    data = data.T\n",
    "    interface = interface.T\n",
    "    nz,nx = np.shape(data)\n",
    "    plt.style.use('seaborn-white')\n",
    "    xi = np.linspace(-nx*.5*dx/D, nx*.5*dx/D, nx)\n",
    "    zi = np.linspace(0, nz*dz/D, nz)\n",
    "    plt.figure(figsize=(10, 10))\n",
    "    contours  = plt.contour(xi,zi,interface,linewidths=0.1, colors='black');\n",
    "#     plt.clabel(contours, inline=True, fontsize=15)\n",
    "    plt.ylabel(\"$z/D$\",fontsize=14)\n",
    "    plt.xlabel(\"$x/D$\", rotation=0, fontsize=14, labelpad=10)\n",
    "#     plt.title(title,fontsize=18,pad = 20)\n",
    "    plt.imshow(data, extent=[-nx*.5*dx/D, nx*.5*dx/D,0, nz*dz/D], origin='lower',cmap='jet',alpha=1,aspect='auto')\n",
    "    plt.colorbar()\n",
    "#     plt.savefig(title+\".png\")"
   ]
  },
  {
   "cell_type": "code",
   "execution_count": null,
   "metadata": {
    "jupyter": {
     "source_hidden": true
    }
   },
   "outputs": [],
   "source": [
    "start = time()\n",
    "U = pl.hf_loadmat(folder+\"\\\\UU\")\n",
    "V = pl.hf_loadmat(folder+\"\\\\VV\")\n",
    "W = pl.hf_loadmat(folder+\"\\\\WW\")\n",
    "T = pl.hf_loadmat(folder+\"\\\\TH\")\n",
    "end = time()\n",
    "print((end-start)/60)"
   ]
  },
  {
   "cell_type": "code",
   "execution_count": null,
   "metadata": {
    "jupyter": {
     "source_hidden": true
    }
   },
   "outputs": [],
   "source": [
    "# Creating a object called hf_profile1\n",
    "# Around 15 mins\n",
    "start = time()\n",
    "\n",
    "hf_profile1 = pl.high_frequency_profile(T,U,V,W,dx,dz,D,Ta,g,threshold)\n",
    "\n",
    "end = time()\n",
    "print(\"Minutes: \",round((end-start)/60,2))"
   ]
  },
  {
   "cell_type": "code",
   "execution_count": null,
   "metadata": {
    "jupyter": {
     "source_hidden": true
    }
   },
   "outputs": [],
   "source": [
    "nx,nz = np.shape(hf_profile1.Re_stress_UW)\n",
    "print(nx,nz)"
   ]
  },
  {
   "cell_type": "code",
   "execution_count": null,
   "metadata": {
    "jupyter": {
     "source_hidden": true
    }
   },
   "outputs": [],
   "source": [
    "hf_contour(hf_profile1.Re_stress_UW,hf_profile1.interface,dx,dz,D,threshold,\"Reynolds Stress UW\")"
   ]
  },
  {
   "cell_type": "code",
   "execution_count": 32,
   "metadata": {},
   "outputs": [],
   "source": [
    "import pandas as pd\n",
    "\n",
    "def hf_loadcsv(filename):\n",
    "    temp = pd.read_csv(filename,skiprows=1,header=None)\n",
    "    temp= hf_csv2array(temp)\n",
    "    temp = temp.T\n",
    "    return temp\n",
    "\n",
    "def hf_fulldata(folder,dataname,nx):\n",
    "    temp= hf_loadcsv(folder+'\\\\c0001.d01.'+dataname)\n",
    "    nz,nt = np.shape(temp)\n",
    "    hfdata = np.zeros((nx,nz,nt))\n",
    "    hfdata[int((nx-1)/2),:,:] = temp\n",
    "    for i in range(1,int((nx+1)/2)):\n",
    "        start = time()\n",
    "        hfdata[int((nx-1)/2)+i,:,:] = hf_loadcsv(folder+'\\\\i00'+str(i).zfill(2)+\".d01.\"+dataname)\n",
    "        end = time()\n",
    "    for i in range(1,int((nx+1)/2)):\n",
    "        start = time()\n",
    "        hfdata[int((nx-1)/2)-i,:,:] = hf_loadcsv(folder+'\\\\j00'+str(i).zfill(2)+\".d01.\"+dataname)\n",
    "        end = time()\n",
    "    return hfdata"
   ]
  },
  {
   "cell_type": "code",
   "execution_count": null,
   "metadata": {},
   "outputs": [],
   "source": []
  }
 ],
 "metadata": {
  "kernelspec": {
   "display_name": "Python 3",
   "language": "python",
   "name": "python3"
  },
  "language_info": {
   "codemirror_mode": {
    "name": "ipython",
    "version": 3
   },
   "file_extension": ".py",
   "mimetype": "text/x-python",
   "name": "python",
   "nbconvert_exporter": "python",
   "pygments_lexer": "ipython3",
   "version": "3.8.5"
  }
 },
 "nbformat": 4,
 "nbformat_minor": 4
}
