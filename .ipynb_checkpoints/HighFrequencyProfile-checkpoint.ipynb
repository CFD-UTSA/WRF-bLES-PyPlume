{
 "cells": [
  {
   "cell_type": "code",
   "execution_count": 1,
   "metadata": {},
   "outputs": [],
   "source": [
    "import pyplume as pl\n",
    "import numpy as np\n",
    "from matplotlib import pyplot as plt\n",
    "from matplotlib import rcParams\n",
    "from time import time"
   ]
  },
  {
   "cell_type": "code",
   "execution_count": 2,
   "metadata": {},
   "outputs": [],
   "source": [
    "inputname = 'namelist.input.txt'\n",
    "p1_metadata = pl.plume_metadata(inputname)\n",
    "D  = p1_metadata.D\n",
    "dt = p1_metadata.dt\n",
    "Ta = p1_metadata.Ta\n",
    "g  = p1_metadata.g\n",
    "nu  = p1_metadata.nu\n",
    "threshold = p1_metadata.threshold"
   ]
  },
  {
   "cell_type": "code",
   "execution_count": 3,
   "metadata": {},
   "outputs": [],
   "source": [
    "#Path to data folder\n",
    "folder = r'C:\\Users\\thanh\\OneDrive - University of Texas at San Antonio\\Data\\nlb.HF.CO2.h.5.0\\instantaneous'"
   ]
  },
  {
   "cell_type": "code",
   "execution_count": 4,
   "metadata": {},
   "outputs": [],
   "source": [
    "# # Combining all CSV files into one matfile \n",
    "# # You only do this once\n",
    "# # Take long time about 1h\n",
    "# nx = 57\n",
    "# start = time()\n",
    "# pl.hf_csv2mat(folder,\"QP\",nx)\n",
    "# pl.hf_csv2mat(folder,\"PR\",nx)\n",
    "# pl.hf_csv2mat(folder,\"TH\",nx)\n",
    "# pl.hf_csv2mat(folder,\"UU\",nx)\n",
    "# pl.hf_csv2mat(folder,\"VV\",nx)\n",
    "# pl.hf_csv2mat(folder,\"WW\",nx)\n",
    "# end = time()\n",
    "# print((end-start)/60)"
   ]
  },
  {
   "cell_type": "code",
   "execution_count": 5,
   "metadata": {},
   "outputs": [],
   "source": [
    "def hf_contour(data,interface,dx,dz,D,threshold,title):\n",
    "    import numpy as np\n",
    "    import matplotlib.pyplot as plt\n",
    "    data = data.T\n",
    "    interface = interface.T\n",
    "    nz,nx = np.shape(data)\n",
    "    plt.style.use('seaborn-white')\n",
    "    xi = np.linspace(-nx*.5*dx/D, nx*.5*dx/D, nx)\n",
    "    zi = np.linspace(0, nz*dz/D, nz)\n",
    "    plt.figure(figsize=(10, 10))\n",
    "    contours  = plt.contour(xi,zi,interface,linewidths=0.1, colors='black');\n",
    "#     plt.clabel(contours, inline=True, fontsize=15)\n",
    "    plt.ylabel(\"$z/D$\",fontsize=14)\n",
    "    plt.xlabel(\"$x/D$\", rotation=0, fontsize=14, labelpad=10)\n",
    "#     plt.title(title,fontsize=18,pad = 20)\n",
    "    plt.imshow(data, extent=[-nx*.5*dx/D, nx*.5*dx/D,0, nz*dz/D], origin='lower',cmap='jet',alpha=1,aspect='auto')\n",
    "    plt.colorbar()\n",
    "#     plt.savefig(title+\".png\")"
   ]
  },
  {
   "cell_type": "code",
   "execution_count": 6,
   "metadata": {},
   "outputs": [
    {
     "name": "stdout",
     "output_type": "stream",
     "text": [
      "0.5007673462231954\n"
     ]
    }
   ],
   "source": [
    "# Loading matfiles\n",
    "start = time()\n",
    "U = pl.hf_loadmat(folder+\"\\\\UU\")\n",
    "V = pl.hf_loadmat(folder+\"\\\\VV\")\n",
    "W = pl.hf_loadmat(folder+\"\\\\WW\")\n",
    "T = pl.hf_loadmat(folder+\"\\\\TH\")\n",
    "end = time()\n",
    "print((end-start)/60)"
   ]
  },
  {
   "cell_type": "code",
   "execution_count": 7,
   "metadata": {},
   "outputs": [
    {
     "name": "stdout",
     "output_type": "stream",
     "text": [
      "57 701\n"
     ]
    }
   ],
   "source": [
    "nx,nz,nt = np.shape(T)\n",
    "print(nx,nz)"
   ]
  },
  {
   "cell_type": "code",
   "execution_count": null,
   "metadata": {},
   "outputs": [],
   "source": [
    "# Creating a object called hf_profile1\n",
    "# Around 15 mins\n",
    "start = time()\n",
    "\n",
    "hf_profile1 = pl.high_frequency_profile(T,U,V,W,nx,nz,D,Ta,g,threshold)\n",
    "\n",
    "end = time()\n",
    "print(\"Minutes: \",round((end-start)/60,2))"
   ]
  },
  {
   "cell_type": "code",
   "execution_count": null,
   "metadata": {},
   "outputs": [],
   "source": [
    "plotdata = hf_profile1.Re_stress_UW\n",
    "hf_contour(plotdata,hf_profile1.interface,nx,nz,D,threshold,\"Reynolds Stress UW\")"
   ]
  },
  {
   "cell_type": "code",
   "execution_count": null,
   "metadata": {},
   "outputs": [],
   "source": [
    "centerline = int((nx-1)/2)\n",
    "testcenter = hf_profile1.Re_stress_UU[centerline,:]\n",
    "plt.plot(testcenterline)"
   ]
  },
  {
   "cell_type": "code",
   "execution_count": null,
   "metadata": {},
   "outputs": [],
   "source": []
  }
 ],
 "metadata": {
  "kernelspec": {
   "display_name": "Python 3",
   "language": "python",
   "name": "python3"
  },
  "language_info": {
   "codemirror_mode": {
    "name": "ipython",
    "version": 3
   },
   "file_extension": ".py",
   "mimetype": "text/x-python",
   "name": "python",
   "nbconvert_exporter": "python",
   "pygments_lexer": "ipython3",
   "version": "3.8.5"
  }
 },
 "nbformat": 4,
 "nbformat_minor": 4
}
