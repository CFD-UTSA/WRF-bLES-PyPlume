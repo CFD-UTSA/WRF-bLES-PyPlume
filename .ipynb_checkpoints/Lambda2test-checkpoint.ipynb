{
 "cells": [
  {
   "cell_type": "code",
   "execution_count": 4,
   "metadata": {},
   "outputs": [],
   "source": [
    "import numpy as np\n",
    "import csv\n",
    "import pandas as pd\n",
    "import time \n",
    "import LESbplume as lp"
   ]
  },
  {
   "cell_type": "code",
   "execution_count": 2,
   "metadata": {},
   "outputs": [],
   "source": [
    "#(r\"D:\\Ammonia_NBL_3D\\D:\\Documents\\Ammonia_NBL_3D\\Ammonia_NBL_3D,skiprows = sk,nrows = n, dtype =np.float32,header = None)\n",
    "#(r\"D:\\Helium_FLUX_1\\He_h01_01_T.csv\",skiprows = sk,nrows = n, dtype =np.float32)"
   ]
  },
  {
   "cell_type": "code",
   "execution_count": null,
   "metadata": {},
   "outputs": [],
   "source": [
    "Start = 0 # numer of rows in dataset\n",
    "End = 4 # time start\n",
    "\n",
    "sk = Start*45*45*700\n",
    "nr = End - Start\n",
    "n = 45*45*700*nr\n",
    "name = 'Ammonia'\n",
    "dx=dy=40\n",
    "dz =10\n",
    "\n",
    "# l2 = pd.read_csv(r\"T:\\Documents\\MATLAB\\lambda2_Sam.csv\",skiprows = sk,nrows = n, dtype =np.float32,header = None)\n",
    "# lamb2sam = l2.to_numpy()\n",
    "# del l2\n",
    "# lamb2sam = np.reshape(lamb2sam, (45,45,700,nr), order=\"F\")\n",
    "\n",
    "dfu = pd.read_csv(r\"D:\\Documents\\Ammonia_NBL_3D\\Ammonia_NBL_3D\\NBL_3D_U_F100_600_Hot_Buoyant.csv\",skiprows = sk,nrows = n, dtype =np.float32,header = None)\n",
    "datau = dfu.to_numpy()\n",
    "del dfu\n",
    "datau = np.reshape(datau, (45,45,700,nr), order=\"F\")\n",
    "\n",
    "dfv = pd.read_csv(r\"D:\\Documents\\Ammonia_NBL_3D\\Ammonia_NBL_3D\\NBL_3D_V_F100_600_Hot_Buoyant.csv\",skiprows = sk,nrows = n, dtype =np.float32,header = None)\n",
    "datav = dfv.to_numpy()\n",
    "del dfv\n",
    "datav = np.reshape(datav, (45,45,700,nr), order=\"F\")\n",
    "\n",
    "dfw = pd.read_csv(r\"D:\\Documents\\Ammonia_NBL_3D\\Ammonia_NBL_3D\\NBL_3D_W_F100_600_Hot_Buoyant.csv\",skiprows = sk,nrows = n, dtype =np.float32,header = None)\n",
    "dataw = dfw.to_numpy()\n",
    "del dfw\n",
    "dataw = np.reshape(dataw, (45,45,700,nr), order=\"F\")"
   ]
  },
  {
   "cell_type": "code",
   "execution_count": 10,
   "metadata": {},
   "outputs": [],
   "source": [
    "# #Calculate Lambda2 \n",
    "# #Estimated time: 2h-3h\n",
    "# #Input (u,v,w,dx,dy,dz)\n",
    "# tic = time.perf_counter()\n",
    "# lamb2 = fl.lambda2t(datau,datav,dataw,dx=40,dy=40,dz=10)\n",
    "# toc1 = time.perf_counter()\n",
    "# print(f\"Time: {((toc1 - tic)/60):0.4f} minutes\")"
   ]
  },
  {
   "cell_type": "code",
   "execution_count": 5,
   "metadata": {},
   "outputs": [],
   "source": [
    "from numpy import linalg as LA\n",
    "import numpy as np\n",
    "def shape(dt):\n",
    "    return dt.shape[0],dt.shape[1],dt.shape[2],dt.shape[3]\n",
    "def transpose(x): \n",
    "    a11 = x[0,0]\n",
    "    a12 = x[0,1]\n",
    "    a13 = x[0,2]\n",
    "    a21 = x[1,0]\n",
    "    a22 = x[1,1]\n",
    "    a23 = x[1,2]\n",
    "    a31 = x[2,0]\n",
    "    a32 = x[2,1]\n",
    "    a33 = x[2,2]\n",
    "    x = np.array([[a11,a21,a31],[a12,a22,a32],[a13,a23,a33]])\n",
    "    return x\n",
    "def muiltiply(x,y):\n",
    "    a11 = x[0,0]*y[0,0]+x[0,1]*y[1,0]+x[0,2]*y[2,0]\n",
    "    a12 = x[0,0]*y[0,1]+x[0,1]*y[1,1]+x[0,2]*y[2,1]\n",
    "    a13 = x[0,0]*y[0,2]+x[0,1]*y[1,2]+x[0,2]*y[2,2]\n",
    "    a21 = x[1,0]*y[0,0]+x[1,1]*y[1,0]+x[1,2]*y[2,0]\n",
    "    a22 = x[1,0]*y[0,1]+x[1,1]*y[1,1]+x[1,2]*y[2,1]\n",
    "    a23 = x[1,0]*y[0,2]+x[1,1]*y[1,2]+x[1,2]*y[2,2]\n",
    "    a31 = x[2,0]*y[0,0]+x[2,1]*y[1,0]+x[2,2]*y[2,0]\n",
    "    a32 = x[2,0]*y[0,1]+x[2,1]*y[1,1]+x[2,2]*y[2,1]\n",
    "    a33 = x[2,0]*y[0,2]+x[2,1]*y[1,2]+x[2,2]*y[2,2]\n",
    "    x = np.array([[a11,a21,a31],[a12,a22,a32],[a13,a23,a33]])\n",
    "    return x\n",
    "#trace of 3x3 matrix(AT A)\n",
    "def trace(x):\n",
    "    tra = (x[0,0]*x[1,1]*x[2,2])\n",
    "    return tra\n",
    "def lambmatrix(S,Ome,nx,ny,nz):\n",
    "    from numpy import linalg as LA\n",
    "    lamb2 = np.zeros((nx,ny,nz),dtype=np.float32)\n",
    "    for i in range(0,nx):\n",
    "                for j in range(0,ny):\n",
    "                    for k in range(0,nz):\n",
    "                        matrix = S[:,:,i,j,k].dot(S[:,:,i,j,k])+Ome[:,:,i,j,k].dot(Ome[:,:,i,j,k])\n",
    "                        w = LA.eigvals(matrix)\n",
    "                        w= np.sort(w)\n",
    "                        if w[1]<0:\n",
    "                            lamb2[i,j,k] = w[1]\n",
    "    return lamb2\n",
    "def lambda2(datau,datav,dataw,t,dx=40,dy=40,dz=10):\n",
    "    from numpy import linalg as LA\n",
    "    nx,ny,nz,nt = shape(datau)         \n",
    "    print(t)\n",
    "        \n",
    "    gu = np.gradient(datau[:,:,:,t],dx,dy,dz)\n",
    "    gv = np.gradient(datav[:,:,:,t],dx,dy,dz)\n",
    "    gw = np.gradient(dataw[:,:,:,t],dx,dy,dz)             \n",
    "    J = np.array([gu,gv,gw])\n",
    "    JT = transpose(J)\n",
    "    S = (J+JT)*0.5\n",
    "    Ome = (J-JT)*0.5\n",
    "    lamb2 = lambmatrix(S,Ome,nx,ny,nz)\n",
    "#     print('{}\\r'.format(\"100% Completed\"), end=\"\")\n",
    "    return lamb2"
   ]
  },
  {
   "cell_type": "code",
   "execution_count": 10,
   "metadata": {},
   "outputs": [
    {
     "name": "stdout",
     "output_type": "stream",
     "text": [
      "1\n"
     ]
    }
   ],
   "source": [
    "t =1\n",
    "lamb2test = lambda2(datau,datav,dataw,t,dx=40,dy=40,dz=10)"
   ]
  },
  {
   "cell_type": "code",
   "execution_count": 11,
   "metadata": {},
   "outputs": [
    {
     "data": {
      "text/plain": [
       "array([[ 0.0000000e+00, -2.6465100e-10, -7.6184188e-09, ...,\n",
       "         0.0000000e+00,  0.0000000e+00,  0.0000000e+00],\n",
       "       [ 0.0000000e+00,  0.0000000e+00,  0.0000000e+00, ...,\n",
       "         0.0000000e+00,  0.0000000e+00,  0.0000000e+00],\n",
       "       [ 0.0000000e+00,  0.0000000e+00, -6.4406738e-09, ...,\n",
       "         0.0000000e+00,  0.0000000e+00,  0.0000000e+00],\n",
       "       ...,\n",
       "       [ 0.0000000e+00, -2.3400561e-09, -5.3986993e-09, ...,\n",
       "         0.0000000e+00,  0.0000000e+00,  0.0000000e+00],\n",
       "       [ 0.0000000e+00,  0.0000000e+00, -3.1718164e-09, ...,\n",
       "         0.0000000e+00,  0.0000000e+00,  0.0000000e+00],\n",
       "       [ 0.0000000e+00, -3.4014322e-09, -1.6048926e-08, ...,\n",
       "         0.0000000e+00,  0.0000000e+00,  0.0000000e+00]], dtype=float32)"
      ]
     },
     "execution_count": 11,
     "metadata": {},
     "output_type": "execute_result"
    }
   ],
   "source": [
    "lamb2test[:,22,:]"
   ]
  },
  {
   "cell_type": "code",
   "execution_count": 12,
   "metadata": {},
   "outputs": [
    {
     "data": {
      "text/plain": [
       "array([[ 0.0000000e+00,  0.0000000e+00,  0.0000000e+00, ...,\n",
       "         0.0000000e+00,  0.0000000e+00,  0.0000000e+00],\n",
       "       [ 0.0000000e+00,  0.0000000e+00,  0.0000000e+00, ...,\n",
       "         0.0000000e+00,  0.0000000e+00,  0.0000000e+00],\n",
       "       [-8.7186824e-10, -1.0922142e-09, -5.3291740e-09, ...,\n",
       "         0.0000000e+00,  0.0000000e+00,  0.0000000e+00],\n",
       "       ...,\n",
       "       [ 0.0000000e+00, -1.4615531e-09, -1.8761854e-09, ...,\n",
       "        -2.5849975e-11,  0.0000000e+00,  0.0000000e+00],\n",
       "       [ 0.0000000e+00, -2.5762112e-10,  0.0000000e+00, ...,\n",
       "         0.0000000e+00,  0.0000000e+00,  0.0000000e+00],\n",
       "       [ 0.0000000e+00,  0.0000000e+00,  0.0000000e+00, ...,\n",
       "         0.0000000e+00,  0.0000000e+00,  0.0000000e+00]], dtype=float32)"
      ]
     },
     "execution_count": 12,
     "metadata": {},
     "output_type": "execute_result"
    }
   ],
   "source": [
    "lamb2sam[:,22,:,t]"
   ]
  },
  {
   "cell_type": "code",
   "execution_count": 13,
   "metadata": {},
   "outputs": [
    {
     "data": {
      "text/plain": [
       "array([[ 4.87985e-05,  4.60912e-05,  2.31329e-05, ...,  8.72711e-05,\n",
       "         1.29014e-04,  1.73948e-04],\n",
       "       [ 1.92523e-04,  3.05639e-05, -7.59432e-05, ...,  2.93728e-05,\n",
       "        -2.86421e-05, -1.44569e-04],\n",
       "       [-3.13897e-03, -1.76078e-03, -5.44281e-04, ..., -1.02509e-04,\n",
       "        -1.71379e-04, -2.72114e-04],\n",
       "       ...,\n",
       "       [-2.18547e-03, -1.09534e-03, -1.72120e-04, ..., -5.30219e-05,\n",
       "        -9.67086e-05, -5.49165e-05],\n",
       "       [ 1.54624e-03,  7.93274e-04,  1.99988e-04, ..., -2.15730e-05,\n",
       "        -1.26506e-04, -2.90766e-04],\n",
       "       [ 1.69150e-03,  1.12391e-03,  5.16926e-04, ...,  1.00989e-04,\n",
       "         2.53983e-04,  5.53609e-04]], dtype=float32)"
      ]
     },
     "execution_count": 13,
     "metadata": {},
     "output_type": "execute_result"
    }
   ],
   "source": [
    "datau[:,22,:,t]"
   ]
  },
  {
   "cell_type": "code",
   "execution_count": 9,
   "metadata": {},
   "outputs": [],
   "source": [
    "#delete in case running out of memeory\n",
    "# del lamb2\n",
    "dx=dy=40\n",
    "dz =10"
   ]
  },
  {
   "cell_type": "code",
   "execution_count": 37,
   "metadata": {},
   "outputs": [
    {
     "name": "stdout",
     "output_type": "stream",
     "text": [
      "3\n",
      "Time: 1.2124 minutes\n"
     ]
    }
   ],
   "source": [
    "# def lambda2(datau,datav,dataw,t,dx=40,dy=40,dz=10):\n",
    "\n",
    "t = 3\n",
    "tic = time.perf_counter()\n",
    "from numpy import linalg as LA\n",
    "nx,ny,nz,nt = lp.shape(datau)         \n",
    "print(t)    \n",
    "dUdx,dUdy,dUdz = np.gradient(datau[:,:,:,t],dx,dy,dz)\n",
    "dVdx,dVdy,dVdz = np.gradient(datav[:,:,:,t],dx,dy,dz)\n",
    "dWdx,dWdy,dWdz = np.gradient(dataw[:,:,:,t],dx,dy,dz)\n",
    "lamb2 = np.zeros((nx,ny,nz),dtype = np.float32)\n",
    "for i in range(0,nx):\n",
    "        for j in range(0,ny):\n",
    "            for k in range(0,nz):\n",
    "                dudx=dUdx[i,j,k]\n",
    "                dudy=dUdy[i,j,k]\n",
    "                dudz=dUdz[i,j,k]\n",
    "                dvdx=dVdx[i,j,k]\n",
    "                dvdy=dVdy[i,j,k]\n",
    "                dvdz=dVdz[i,j,k]\n",
    "                dwdx=dWdx[i,j,k]\n",
    "                dwdy=dWdy[i,j,k]\n",
    "                dwdz=dWdz[i,j,k]\n",
    "                Om = np.array([[0,dudy-dvdx,dudz-dwdx],\n",
    "                      [dvdx-dudy,0,dvdz-dwdy],\n",
    "                      [dwdx-dudz,dwdy-dvdz,0]])\n",
    "                Om = Om*0.5\n",
    "                S  = np.array([[2*dudx,dudy+dvdx,dudz+dwdx],\n",
    "                      [dvdx+dudy,2*dvdy,dvdz+dwdy],\n",
    "                      [dwdx+dudz,dwdy+dvdz,2*dwdz]])\n",
    "                S = S*0.5\n",
    "                matrix = S.dot(S) + Om.dot(Om)\n",
    "                w = LA.eigvals(matrix)\n",
    "                w= np.sort(w)\n",
    "                if w[1]<0:\n",
    "                    lamb2[i,j,k] = w[1]\n",
    "#     return lamb2\n",
    "toc1 = time.perf_counter()\n",
    "print(f\"Time: {((toc1 - tic)/60):0.4f} minutes\")"
   ]
  },
  {
   "cell_type": "code",
   "execution_count": 33,
   "metadata": {},
   "outputs": [
    {
     "data": {
      "text/plain": [
       "array([[ 6,  6,  6],\n",
       "       [12, 12, 12],\n",
       "       [18, 18, 18]])"
      ]
     },
     "execution_count": 33,
     "metadata": {},
     "output_type": "execute_result"
    }
   ],
   "source": [
    "A = np.array([[1,1,1],\n",
    "                  [2,2,2],\n",
    "                  [3,3,3]])\n",
    "A.dot(A)"
   ]
  },
  {
   "cell_type": "code",
   "execution_count": null,
   "metadata": {},
   "outputs": [],
   "source": []
  }
 ],
 "metadata": {
  "kernelspec": {
   "display_name": "Python 3",
   "language": "python",
   "name": "python3"
  },
  "language_info": {
   "codemirror_mode": {
    "name": "ipython",
    "version": 3
   },
   "file_extension": ".py",
   "mimetype": "text/x-python",
   "name": "python",
   "nbconvert_exporter": "python",
   "pygments_lexer": "ipython3",
   "version": "3.7.6"
  }
 },
 "nbformat": 4,
 "nbformat_minor": 4
}
