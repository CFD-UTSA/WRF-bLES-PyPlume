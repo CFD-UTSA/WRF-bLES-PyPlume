{
 "cells": [
  {
   "cell_type": "code",
   "execution_count": null,
   "metadata": {},
   "outputs": [],
   "source": [
    "3+5\n",
    "\n",
    "cos(10)\n",
    "\n",
    "import numpy as np\n",
    "\n",
    "np.cos(10)\n",
    "\n",
    "np.sin(100)\n",
    "\n",
    "np.exp(10)\n",
    "\n",
    "ad = 5\n",
    "\n",
    "print(ad)\n",
    "\n",
    "adc = ad +8\n",
    "\n",
    "\n",
    "\n",
    "print(adc)\n",
    "\n",
    "#int This is a comment\n",
    "a = 1\n",
    "\n",
    "#float\n",
    "b = 4.33414\n",
    "\n",
    "#string\n",
    "c = \"Hello World \"\n",
    "\n",
    "print(\"Hello World \")\n",
    "\n",
    "print(\"Adding an int and a float together:11111\",a+b,a,c)\n",
    "\n",
    "4*4\n",
    "\n",
    "4**2\n",
    "\n",
    "np.sqrt(16)\n",
    "\n",
    "#kilometers\n",
    "#input\n",
    "a = 3\n",
    "\n",
    "\n",
    "b = a *0.6\n",
    "print(a,'kilometers equal to',b,'miles')\n",
    "\n",
    "# 1 km = 0.6 miles\n",
    "# a km = (0.6*a) miles"
   ]
  },
  {
   "cell_type": "code",
   "execution_count": 1,
   "metadata": {},
   "outputs": [],
   "source": [
    "import numpy as np"
   ]
  },
  {
   "cell_type": "code",
   "execution_count": 11,
   "metadata": {},
   "outputs": [
    {
     "name": "stdout",
     "output_type": "stream",
     "text": [
      "12\n"
     ]
    }
   ],
   "source": [
    "i = 2\n",
    "\n",
    "if(i<=10 and i>3): #less or equal to 10\n",
    "    i = i-5\n",
    "    print(i)\n",
    "    \n",
    "else: #greater than 10\n",
    "    i = i+10\n",
    "    print(i)"
   ]
  },
  {
   "cell_type": "code",
   "execution_count": 13,
   "metadata": {},
   "outputs": [
    {
     "name": "stdout",
     "output_type": "stream",
     "text": [
      "5\n",
      "7\n",
      "9\n",
      "11\n"
     ]
    }
   ],
   "source": [
    "i=3\n",
    "while(i<10):\n",
    "    i = i +2\n",
    "    print(i)"
   ]
  },
  {
   "cell_type": "code",
   "execution_count": 26,
   "metadata": {},
   "outputs": [
    {
     "ename": "SystemExit",
     "evalue": "",
     "output_type": "error",
     "traceback": [
      "An exception has occurred, use %tb to see the full traceback.\n",
      "\u001b[1;31mSystemExit\u001b[0m\n"
     ]
    }
   ],
   "source": [
    "import pygame as pg\n",
    "import sys\n",
    "pg.init()\n",
    "\n",
    "width = 800\n",
    "height = 600\n",
    "\n",
    "screen = pg.display.set_mode((width,height))\n",
    "\n",
    "color = (255,0,0)\n",
    "player_pos = (100,100)\n",
    "player_size = 100\n",
    "game_over = False\n",
    "\n",
    "while not game_over:\n",
    "    for event in pg.event.get():\n",
    "        if event.type == pg.QUIT:\n",
    "            sys.exit()\n",
    "#     pg.draw.rect(screen,color,(player_pos[0],player_pos[1],player_size,player_size))\n",
    "#     pg.display.update()"
   ]
  },
  {
   "cell_type": "code",
   "execution_count": 4,
   "metadata": {},
   "outputs": [
    {
     "name": "stdout",
     "output_type": "stream",
     "text": [
      "1\n",
      "1\n",
      "4\n",
      "27\n",
      "256\n",
      "3125\n",
      "46656\n",
      "823543\n",
      "16777216\n",
      "387420489\n"
     ]
    }
   ],
   "source": [
    "for i in range(10):\n",
    "    print(i**i)\n",
    "    "
   ]
  },
  {
   "cell_type": "code",
   "execution_count": null,
   "metadata": {},
   "outputs": [],
   "source": []
  }
 ],
 "metadata": {
  "kernelspec": {
   "display_name": "Python 3",
   "language": "python",
   "name": "python3"
  },
  "language_info": {
   "codemirror_mode": {
    "name": "ipython",
    "version": 3
   },
   "file_extension": ".py",
   "mimetype": "text/x-python",
   "name": "python",
   "nbconvert_exporter": "python",
   "pygments_lexer": "ipython3",
   "version": "3.7.6"
  }
 },
 "nbformat": 4,
 "nbformat_minor": 4
}
