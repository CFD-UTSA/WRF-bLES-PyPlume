{
 "cells": [
  {
   "cell_type": "code",
   "execution_count": 1,
   "metadata": {},
   "outputs": [
    {
     "name": "stdout",
     "output_type": "stream",
     "text": [
      "10\n",
      "(14175000, 1)\n",
      "Downloaded the tutorial in 34.7541 seconds\n"
     ]
    }
   ],
   "source": [
    "import numpy as np\n",
    "import pandas as pd\n",
    "import time\n",
    "import skimage.measure\n",
    "import matplotlib.pyplot as plt\n",
    "from sklearn.linear_model import LinearRegression\n",
    "from matplotlib import animation\n",
    "import matplotlib.patches as mpatches\n",
    "from numpy import diff\n",
    "\n",
    "#Transpose of 3x3 matrix\n",
    "def TP(x): \n",
    "    a11 = x[0,0]\n",
    "    a12 = x[0,1]\n",
    "    a13 = x[0,2]\n",
    "    a21 = x[1,0]\n",
    "    a22 = x[1,1]\n",
    "    a23 = x[1,2]\n",
    "    a31 = x[2,0]\n",
    "    a32 = x[2,1]\n",
    "    a33 = x[2,2]\n",
    "    x = np.array([[a11,a21,a31],[a12,a22,a32],[a13,a23,a33]])\n",
    "    return x\n",
    "#multiply of 3x3 matrices\n",
    "def DT(x,y):\n",
    "    a11 = x[0,0]*y[0,0]+x[0,1]*y[1,0]+x[0,2]*y[2,0]\n",
    "    a12 = x[0,0]*y[0,1]+x[0,1]*y[1,1]+x[0,2]*y[2,1]\n",
    "    a13 = x[0,0]*y[0,2]+x[0,1]*y[1,2]+x[0,2]*y[2,2]\n",
    "    a21 = x[1,0]*y[0,0]+x[1,1]*y[1,0]+x[1,2]*y[2,0]\n",
    "    a22 = x[1,0]*y[0,1]+x[1,1]*y[1,1]+x[1,2]*y[2,1]\n",
    "    a23 = x[1,0]*y[0,2]+x[1,1]*y[1,2]+x[1,2]*y[2,2]\n",
    "    a31 = x[2,0]*y[0,0]+x[2,1]*y[1,0]+x[2,2]*y[2,0]\n",
    "    a32 = x[2,0]*y[0,1]+x[2,1]*y[1,1]+x[2,2]*y[2,1]\n",
    "    a33 = x[2,0]*y[0,2]+x[2,1]*y[1,2]+x[2,2]*y[2,2]\n",
    "    x = np.array([[a11,a21,a31],[a12,a22,a32],[a13,a23,a33]])\n",
    "    return x\n",
    "#trace of 3x3 matrix(AT A)\n",
    "def TRA(x):\n",
    "    tra = (x[0,0]*x[1,1]*x[2,2])\n",
    "    return tra\n",
    "\n",
    "i = 0 # i1 for T, i2 for U, I3 for V, i4 for W, i5 for all data\n",
    "Start = 250 # numer of rows in dataset\n",
    "End = 260# time start\n",
    "\n",
    "sk = Start*45*45*700\n",
    "nr = End - Start\n",
    "n = 45*45*700*nr\n",
    "nx = 45\n",
    "ny = 45\n",
    "nz = 700\n",
    "dx = 400\n",
    "print(nr)\n",
    "\n",
    "#Importing data\n",
    "\n",
    "tic = time.perf_counter()\n",
    "# dft = pd.read_csv('/Users/thanhtran/Dr.Bh_lab/Helium_FLUX_1/He_h01_01_T.csv',skiprows = sk,nrows = n, dtype =np.float32)\n",
    "# datat = dft.to_numpy()\n",
    "dfu = pd.read_csv('C:/Users/Sound of Silence/Desktop/Helium_FLUX_1/He_h01_01_U.csv',skiprows = sk,nrows = n, header = None, dtype =np.float32)#header = None)\n",
    "datau = dfu.to_numpy()\n",
    "print(datau.shape)\n",
    "del dfu\n",
    "dfv = pd.read_csv('C:/Users/Sound of Silence/Desktop/Helium_FLUX_1/He_h01_01_V.csv',skiprows = sk,nrows = n, header = None, dtype =np.float32)#header = None)\n",
    "datav = dfv.to_numpy()\n",
    "del dfv\n",
    "dfw = pd.read_csv('C:/Users/Sound of Silence/Desktop/Helium_FLUX_1/He_h01_01_W.csv',skiprows = sk,nrows = n, header = None, dtype =np.float32)#header = None)\n",
    "dataw = dfw.to_numpy()\n",
    "del dfw\n",
    "toc = time.perf_counter()\n",
    "print(f\"Downloaded the tutorial in {toc - tic:0.4f} seconds\")\n",
    "\n",
    "#Shaping data into actural shape (45*45*700)\n",
    "# datat = np.reshape(datat, (nx,ny,nz,nr), order=\"F\")\n",
    "datau = np.reshape(datau, (nx,ny,nz,nr), order=\"F\")\n",
    "datav = np.reshape(datav, (nx,ny,nz,nr), order=\"F\")\n",
    "dataw = np.reshape(dataw, (nx,ny,nz,nr), order=\"F\")"
   ]
  },
  {
   "cell_type": "code",
   "execution_count": 3,
   "metadata": {},
   "outputs": [
    {
     "name": "stdout",
     "output_type": "stream",
     "text": [
      "Downloaded the tutorial in 6.9667 seconds\n"
     ]
    }
   ],
   "source": [
    "dx = dy = 40\n",
    "dz = 10\n",
    "\n",
    "import fluidlab as fl\n",
    "dataud,datavd,datawd = fl.uvw_wcdless(datau,datav,dataw)\n",
    "tic = time.perf_counter()\n",
    "omega=np.zeros((nx,ny,nz,nr),dtype=np.float32)\n",
    "for t in range(0,nr):\n",
    "    gu = np.gradient(datau[:,:,:,t],dx,dy,dz)\n",
    "    gv = np.gradient(datav[:,:,:,t],dx,dy,dz)\n",
    "    gw = np.gradient(dataw[:,:,:,t],dx,dy,dz)\n",
    "    \n",
    "    GV = np.array([[gu[0],gv[0],gw[0]],[gu[1],gv[1],gw[1]],[gu[2],gv[2],gw[2]]])\n",
    "    GVT = TP(GV)\n",
    "\n",
    "    A = 0.5*(GV+GVT)\n",
    "    B = 0.5*(GV-GVT)\n",
    "    AT = TP(A)\n",
    "    BT = TP(B)\n",
    "    ATA = DT(AT,A)\n",
    "    BTB = DT(BT,B)\n",
    "    a = TRA(ATA)\n",
    "    b = TRA(BTB)\n",
    "    ef=0.001*np.max(b-a)\n",
    "    omega[:,:,:,t] = b/(a+b+ef)\n",
    "toc = time.perf_counter()\n",
    "print(f\"Downloaded the tutorial in {toc - tic:0.4f} seconds\")"
   ]
  },
  {
   "cell_type": "code",
   "execution_count": 4,
   "metadata": {},
   "outputs": [
    {
     "name": "stdout",
     "output_type": "stream",
     "text": [
      "90.0%\r"
     ]
    }
   ],
   "source": [
    "omegafl2 = fl.omega(datau,datav,dataw,dx=40,dy=40,dz=10)"
   ]
  },
  {
   "cell_type": "code",
   "execution_count": 10,
   "metadata": {},
   "outputs": [],
   "source": [
    "lamb2 = fl.lambda2(datau,datav,dataw,dx=40,dy=40,dz=10)"
   ]
  },
  {
   "cell_type": "code",
   "execution_count": 11,
   "metadata": {},
   "outputs": [
    {
     "name": "stdout",
     "output_type": "stream",
     "text": [
      "Downloaded the tutorial in 35.9624 seconds\n"
     ]
    }
   ],
   "source": [
    "tic = time.perf_counter()\n",
    "#Saving File\n",
    "\n",
    "filename = \"lambda2.csv\"\n",
    "filedata = lamb2\n",
    "\n",
    "import csv\n",
    "nx,ny,nz,nt = filedata.shape[0],filedata.shape[1],filedata.shape[2],filedata.shape[3]\n",
    "filedata = np.reshape(filedata, (nx*ny*nz*nt,1), order=\"F\")\n",
    "# writing to csv file  \n",
    "with open(filename, 'w') as csvfile:  \n",
    "    # creating a csv writer object  \n",
    "    csvwriter = csv.writer(csvfile) \n",
    "    # writing the data rows   \n",
    "    csvwriter.writerows(filedata)\n",
    "toc = time.perf_counter()\n",
    "print(f\"Downloaded the tutorial in {toc - tic:0.4f} seconds\")"
   ]
  },
  {
   "cell_type": "code",
   "execution_count": 6,
   "metadata": {},
   "outputs": [
    {
     "data": {
      "text/plain": [
       "array([[2.15348586e-01, 3.09194606e-02, 9.46584903e-03, ...,\n",
       "        1.47321198e-18, 1.12621203e-17, 3.92877621e-18],\n",
       "       [4.79610683e-03, 2.07138900e-02, 4.58667614e-02, ...,\n",
       "        4.03038559e-17, 1.84101933e-17, 1.03109621e-19],\n",
       "       [9.81253479e-03, 3.01088579e-02, 3.81230097e-03, ...,\n",
       "        1.33203776e-19, 3.30984452e-18, 4.74768502e-18],\n",
       "       ...,\n",
       "       [9.35612619e-02, 4.52785268e-02, 9.06258501e-05, ...,\n",
       "        3.37361543e-17, 2.29487067e-17, 2.75891022e-17],\n",
       "       [4.93194461e-01, 3.75738330e-02, 5.20508213e-04, ...,\n",
       "        5.73521232e-19, 1.09207999e-17, 1.00366696e-17],\n",
       "       [4.26160127e-01, 9.35166050e-03, 2.95627350e-03, ...,\n",
       "        7.30360776e-18, 7.81235434e-19, 7.17401586e-18]], dtype=float32)"
      ]
     },
     "execution_count": 6,
     "metadata": {},
     "output_type": "execute_result"
    }
   ],
   "source": [
    "omega[22,:,:,1]"
   ]
  },
  {
   "cell_type": "code",
   "execution_count": 7,
   "metadata": {},
   "outputs": [
    {
     "data": {
      "text/plain": [
       "array([[2.15348586e-01, 3.09194606e-02, 9.46584903e-03, ...,\n",
       "        1.47321198e-18, 1.12621203e-17, 3.92877621e-18],\n",
       "       [4.79610683e-03, 2.07138900e-02, 4.58667614e-02, ...,\n",
       "        4.03038559e-17, 1.84101933e-17, 1.03109621e-19],\n",
       "       [9.81253479e-03, 3.01088579e-02, 3.81230097e-03, ...,\n",
       "        1.33203776e-19, 3.30984452e-18, 4.74768502e-18],\n",
       "       ...,\n",
       "       [9.35612619e-02, 4.52785268e-02, 9.06258501e-05, ...,\n",
       "        3.37361543e-17, 2.29487067e-17, 2.75891022e-17],\n",
       "       [4.93194461e-01, 3.75738330e-02, 5.20508213e-04, ...,\n",
       "        5.73521232e-19, 1.09207999e-17, 1.00366696e-17],\n",
       "       [4.26160127e-01, 9.35166050e-03, 2.95627350e-03, ...,\n",
       "        7.30360776e-18, 7.81235434e-19, 7.17401586e-18]], dtype=float32)"
      ]
     },
     "execution_count": 7,
     "metadata": {},
     "output_type": "execute_result"
    }
   ],
   "source": [
    "omefl2[22,:,:,1]"
   ]
  },
  {
   "cell_type": "code",
   "execution_count": 6,
   "metadata": {},
   "outputs": [
    {
     "name": "stdout",
     "output_type": "stream",
     "text": [
      "(70875000, 1)\n"
     ]
    }
   ],
   "source": [
    "dfu = pd.read_csv('omega_norm.csv', header = None, dtype =np.float32)\n",
    "dtest = dfu.to_numpy()\n",
    "print(dtest.shape)\n",
    "dtest = np.reshape(dtest, (nx,ny,nz,50), order=\"F\")"
   ]
  },
  {
   "cell_type": "code",
   "execution_count": 21,
   "metadata": {},
   "outputs": [
    {
     "data": {
      "text/plain": [
       "array([[2.15348586e-01, 3.09194606e-02, 9.46584903e-03, ...,\n",
       "        1.47321198e-18, 1.12621203e-17, 3.92877621e-18],\n",
       "       [4.79610683e-03, 2.07138900e-02, 4.58667614e-02, ...,\n",
       "        4.03038559e-17, 1.84101933e-17, 1.03109621e-19],\n",
       "       [9.81253479e-03, 3.01088579e-02, 3.81230097e-03, ...,\n",
       "        1.33203776e-19, 3.30984452e-18, 4.74768502e-18],\n",
       "       ...,\n",
       "       [9.35612619e-02, 4.52785268e-02, 9.06258501e-05, ...,\n",
       "        3.37361543e-17, 2.29487067e-17, 2.75891022e-17],\n",
       "       [4.93194461e-01, 3.75738330e-02, 5.20508213e-04, ...,\n",
       "        5.73521232e-19, 1.09207999e-17, 1.00366696e-17],\n",
       "       [4.26160127e-01, 9.35166050e-03, 2.95627350e-03, ...,\n",
       "        7.30360776e-18, 7.81235434e-19, 7.17401586e-18]], dtype=float32)"
      ]
     },
     "execution_count": 21,
     "metadata": {},
     "output_type": "execute_result"
    }
   ],
   "source": [
    "dtest[22,:,:,1]"
   ]
  },
  {
   "cell_type": "code",
   "execution_count": 17,
   "metadata": {},
   "outputs": [
    {
     "data": {
      "text/plain": [
       "array([[2.15348586e-01, 3.09194606e-02, 9.46584903e-03, ...,\n",
       "        1.47321198e-18, 1.12621203e-17, 3.92877621e-18],\n",
       "       [4.79610683e-03, 2.07138900e-02, 4.58667614e-02, ...,\n",
       "        4.03038559e-17, 1.84101933e-17, 1.03109621e-19],\n",
       "       [9.81253479e-03, 3.01088579e-02, 3.81230097e-03, ...,\n",
       "        1.33203776e-19, 3.30984452e-18, 4.74768502e-18],\n",
       "       ...,\n",
       "       [9.35612619e-02, 4.52785268e-02, 9.06258501e-05, ...,\n",
       "        3.37361543e-17, 2.29487067e-17, 2.75891022e-17],\n",
       "       [4.93194461e-01, 3.75738330e-02, 5.20508213e-04, ...,\n",
       "        5.73521232e-19, 1.09207999e-17, 1.00366696e-17],\n",
       "       [4.26160127e-01, 9.35166050e-03, 2.95627350e-03, ...,\n",
       "        7.30360776e-18, 7.81235434e-19, 7.17401586e-18]], dtype=float32)"
      ]
     },
     "execution_count": 17,
     "metadata": {},
     "output_type": "execute_result"
    }
   ],
   "source": [
    "omega[22,:,:,1]"
   ]
  },
  {
   "cell_type": "code",
   "execution_count": 21,
   "metadata": {},
   "outputs": [
    {
     "data": {
      "text/plain": [
       "-0.0005829274"
      ]
     },
     "execution_count": 21,
     "metadata": {},
     "output_type": "execute_result"
    }
   ],
   "source": [
    "lamb2.min()"
   ]
  },
  {
   "cell_type": "code",
   "execution_count": null,
   "metadata": {},
   "outputs": [],
   "source": []
  }
 ],
 "metadata": {
  "kernelspec": {
   "display_name": "Python 3",
   "language": "python",
   "name": "python3"
  },
  "language_info": {
   "codemirror_mode": {
    "name": "ipython",
    "version": 3
   },
   "file_extension": ".py",
   "mimetype": "text/x-python",
   "name": "python",
   "nbconvert_exporter": "python",
   "pygments_lexer": "ipython3",
   "version": "3.7.6"
  }
 },
 "nbformat": 4,
 "nbformat_minor": 4
}
