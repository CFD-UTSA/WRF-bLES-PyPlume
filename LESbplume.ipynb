{
 "cells": [
  {
   "cell_type": "code",
   "execution_count": 1,
   "metadata": {},
   "outputs": [],
   "source": [
    "import numpy as np\n",
    "import csv\n",
    "import pandas as pd\n",
    "import time\n",
    "import sys"
   ]
  },
  {
   "cell_type": "code",
   "execution_count": 2,
   "metadata": {
    "jupyter": {
     "source_hidden": true
    }
   },
   "outputs": [],
   "source": [
    "#Transpose of 3x3 matrix\n",
    "def transpose(x): \n",
    "    a11 = x[0,0]\n",
    "    a12 = x[0,1]\n",
    "    a13 = x[0,2]\n",
    "    a21 = x[1,0]\n",
    "    a22 = x[1,1]\n",
    "    a23 = x[1,2]\n",
    "    a31 = x[2,0]\n",
    "    a32 = x[2,1]\n",
    "    a33 = x[2,2]\n",
    "    x = np.array([[a11,a21,a31],[a12,a22,a32],[a13,a23,a33]])\n",
    "    return x\n",
    "\n",
    "#multiply of 3x3 matrices\n",
    "def muiltiply(x,y):\n",
    "    a11 = x[0,0]*y[0,0]+x[0,1]*y[1,0]+x[0,2]*y[2,0]\n",
    "    a12 = x[0,0]*y[0,1]+x[0,1]*y[1,1]+x[0,2]*y[2,1]\n",
    "    a13 = x[0,0]*y[0,2]+x[0,1]*y[1,2]+x[0,2]*y[2,2]\n",
    "    a21 = x[1,0]*y[0,0]+x[1,1]*y[1,0]+x[1,2]*y[2,0]\n",
    "    a22 = x[1,0]*y[0,1]+x[1,1]*y[1,1]+x[1,2]*y[2,1]\n",
    "    a23 = x[1,0]*y[0,2]+x[1,1]*y[1,2]+x[1,2]*y[2,2]\n",
    "    a31 = x[2,0]*y[0,0]+x[2,1]*y[1,0]+x[2,2]*y[2,0]\n",
    "    a32 = x[2,0]*y[0,1]+x[2,1]*y[1,1]+x[2,2]*y[2,1]\n",
    "    a33 = x[2,0]*y[0,2]+x[2,1]*y[1,2]+x[2,2]*y[2,2]\n",
    "    x = np.array([[a11,a21,a31],[a12,a22,a32],[a13,a23,a33]])\n",
    "    return x\n",
    "\n",
    "#trace of 3x3 matrix(AT A)\n",
    "def trace(x):\n",
    "    tra = (x[0,0]*x[1,1]*x[2,2])\n",
    "    return tra"
   ]
  },
  {
   "cell_type": "code",
   "execution_count": 3,
   "metadata": {},
   "outputs": [],
   "source": [
    "def timemean(dataw):\n",
    "    wmean = np.mean(dataw,3)\n",
    "    wmean = np.squeeze(wmean)\n",
    "    return wmean\n",
    "def centermean(dataw):\n",
    "    wmean = timemean(dataw)\n",
    "    del dataw\n",
    "    a = np.int(np.ceil(wmean.shape[0]/2))\n",
    "    b = np.int(np.floor(wmean.shape[0]/2))\n",
    "    c = np.int(np.ceil(wmean.shape[1]/2))\n",
    "    d = np.int(np.floor(wmean.shape[1]/2))\n",
    "    if(a == b and c == d):                   #even even\n",
    "        wc1 = wmean[a,c,:]\n",
    "        wc2 = wmean[a,c-1,:]\n",
    "        wc3 = wmean[a-1,c-1,:]\n",
    "        wc4 = wmean[a-1,c,:]\n",
    "        wc = (wc1+wc2+wc3+wc4)/4\n",
    "    if(a != b and c == d):                   #odd even\n",
    "        wc1 = wmean[b,c,:]\n",
    "        wc2 = wmean[b,c-1,:]\n",
    "        wc = (wc1+wc2)/2\n",
    "    if(a == b and c != d):                   #even odd\n",
    "        wc1 = wmean[b,d,:]\n",
    "        wc2 = wmean[b-1,d,:]\n",
    "        wc = (wc1+wc2)/2\n",
    "    if(a!=b and c!=d):\n",
    "        wc = wmean[b,d,:]\n",
    "    return wc       "
   ]
  },
  {
   "cell_type": "code",
   "execution_count": 4,
   "metadata": {},
   "outputs": [],
   "source": [
    "def sameshape3(datau,datav,dataw):\n",
    "    if (datau.shape[0] != datav.shape[0] or datau.shape[0] != dataw.shape[0]\n",
    "        or datau.shape[1] != datav.shape[1] or datau.shape[1] != dataw.shape[1]\n",
    "        or datau.shape[2] != datav.shape[2] or datau.shape[2] != dataw.shape[2]\n",
    "        or datau.shape[3] != datav.shape[3] or datau.shape[3] != dataw.shape[3]):\n",
    "        print (\"Please input uvw files as same shape\")\n",
    "        return False\n",
    "    else:\n",
    "        return True"
   ]
  },
  {
   "cell_type": "code",
   "execution_count": 5,
   "metadata": {},
   "outputs": [],
   "source": [
    "def sameshape2(datau,datav):\n",
    "    if (datau.shape[0] != datav.shape[0] or datau.shape[1] != datav.shape[1]\n",
    "        or datau.shape[2] != datav.shape[2]):\n",
    "        print (\"Please input check if your data files are same shape\")\n",
    "        return False\n",
    "    else:\n",
    "        return True"
   ]
  },
  {
   "cell_type": "code",
   "execution_count": 6,
   "metadata": {},
   "outputs": [],
   "source": [
    "def shape(dt):\n",
    "    return dt.shape[0],dt.shape[1],dt.shape[2],dt.shape[3]"
   ]
  },
  {
   "cell_type": "code",
   "execution_count": 7,
   "metadata": {},
   "outputs": [],
   "source": [
    "def uvw_wcdless(datau,datav,dataw):\n",
    "    \n",
    "    if (sameshape3(datau,datav,dataw) is False):\n",
    "        return\n",
    "    nx,ny,nz,nt = shape(datau)\n",
    "    wc = centermean(dataw)\n",
    "    U = np.zeros((nx,ny,nz,nt),dtype = np.float32)\n",
    "    V = np.zeros((nx,ny,nz,nt),dtype = np.float32)\n",
    "    W = np.zeros((nx,ny,nz,nt),dtype = np.float32)\n",
    "    for ti in range(0,nt):\n",
    "        for zi in range(0,nz):\n",
    "            U[:,:,zi,ti] = (datau[:,:,zi,ti]/wc[zi])                #1\n",
    "            V[:,:,zi,ti] = (datav[:,:,zi,ti]/wc[zi])\n",
    "            W[:,:,zi,ti] = (dataw[:,:,zi,ti]/wc[zi])\n",
    "    return U,V,W"
   ]
  },
  {
   "cell_type": "code",
   "execution_count": 8,
   "metadata": {},
   "outputs": [],
   "source": [
    "def dless(data):\n",
    "    nx,ny,nz,nt = shape(data)\n",
    "    wc = centermean(data)\n",
    "    D = np.zeros((nx,ny,nz,nt),dtype = np.float32)\n",
    "    for ti in range(0,nt):\n",
    "        for zi in range(0,nz):\n",
    "            D[:,:,zi,ti] = (data[:,:,zi,ti]/wc[zi])                #1\n",
    "    return D"
   ]
  },
  {
   "cell_type": "code",
   "execution_count": 9,
   "metadata": {
    "jupyter": {
     "source_hidden": true
    }
   },
   "outputs": [],
   "source": [
    "def omega_single(datau,datav,dataw,dx,dy,dz,t):\n",
    "    percent = np.str(np.round(t/datau.shape[3]*100))+\"%\"\n",
    "    print('{}\\r'.format(percent), end=\"\")\n",
    "\n",
    "    gu = np.gradient(datau[:,:,:,t],dx,dy,dz)\n",
    "    gv = np.gradient(datav[:,:,:,t],dx,dy,dz)\n",
    "    gw = np.gradient(dataw[:,:,:,t],dx,dy,dz)\n",
    "\n",
    "    GV = np.array([[gu[0],gv[0],gw[0]],[gu[1],gv[1],gw[1]],[gu[2],gv[2],gw[2]]])\n",
    "    GVT = transpose(GV)\n",
    "\n",
    "    A = 0.5*(GV+GVT)\n",
    "    B = 0.5*(GV-GVT)\n",
    "    AT = transpose(A)\n",
    "    BT = transpose(B)\n",
    "    ATA = muiltiply(AT,A)\n",
    "    BTB = muiltiply(BT,B)\n",
    "    a = trace(ATA)\n",
    "    b = trace(BTB)\n",
    "    ef=0.001*np.max(b-a)\n",
    "    return (b/(a+b+ef))"
   ]
  },
  {
   "cell_type": "code",
   "execution_count": 10,
   "metadata": {
    "jupyter": {
     "source_hidden": true
    }
   },
   "outputs": [],
   "source": [
    "def omega(datau,datav,dataw,dx,dy,dz):\n",
    "    \n",
    "    if (sameshape3(datau,datav,dataw) is False):\n",
    "        return\n",
    "    np.seterr(divide='ignore', invalid='ignore')\n",
    "    datau,datav,dataw = uvw_wcdless(datau,datav,dataw)\n",
    "    \n",
    "    ome=np.zeros((datau.shape[0],datau.shape[1],datau.shape[2],datau.shape[3]),dtype=np.float16)\n",
    "    for t in range(0,datau.shape[3]):\n",
    "        ome[:,:,:,t] = omega_single(datau,datav,dataw,dx,dy,dz,t)\n",
    "    ome = np.nan_to_num(ome)\n",
    "    return ome"
   ]
  },
  {
   "cell_type": "code",
   "execution_count": 11,
   "metadata": {
    "jupyter": {
     "source_hidden": true
    }
   },
   "outputs": [],
   "source": [
    "# Memories problems\n",
    "def vorticity(datau,datav,dataw,dx=45,dy=45,dz=10,dt=10):\n",
    "    if (sameshape3(datau,datav,dataw) is False):\n",
    "        return\n",
    "    print(\"To calculate vorticity need at least 32gbs of RAM.\")\n",
    "    gu = np.gradient(datau,45,45,10,10)\n",
    "    gu1 = np.array(gu[1],dtype =np.float32)\n",
    "    gu2 = np.array(gu[2],dtype =np.float32)\n",
    "    del gu\n",
    "    \n",
    "    gv = np.gradient(datav,45,45,10,10)\n",
    "    gv0 = np.array(gv[0],dtype =np.float32)\n",
    "    gv2 = np.array(gv[2],dtype =np.float32)\n",
    "    del gv\n",
    "    \n",
    "    gw = np.gradient(dataw,45,45,10,10)\n",
    "    gw0 = np.array(gw[0],dtype =np.float32)\n",
    "    gw1 = np.array(gw[1],dtype =np.float32)\n",
    "    del gw\n",
    "    \n",
    "    omgx = 0.5*(gw1-gv2)\n",
    "    del gw1, gv2\n",
    "    omgy = 0.5*(gu2-gw0)\n",
    "    del gu2, gw0\n",
    "    omgz = 0.5*(gv0-gu1)\n",
    "    del gv0,gu1\n",
    "    \n",
    "    vor = np.array([2*omgx,2*omgy,2*omgz])\n",
    "    return vor"
   ]
  },
  {
   "cell_type": "code",
   "execution_count": 12,
   "metadata": {
    "jupyter": {
     "source_hidden": true
    }
   },
   "outputs": [],
   "source": [
    "def plumehalfgraph(dataw,datat,threshold,dx,dy,dz,D,name):\n",
    "    import matplotlib.pyplot as plt\n",
    "    if (sameshape2(dataw,datat) is False):\n",
    "        return\n",
    "    nx,ny,nz,nt = shape(datat)\n",
    "    wmean = timemean(dataw)\n",
    "    tmean = timemean(datat)\n",
    "    wc = centermean(dataw)\n",
    "    tc = centermean(datat)\n",
    "    \n",
    "    lt = np.zeros((nz,1),dtype=np.float32)\n",
    "    zt = np.zeros((nz,1),dtype=np.float32)\n",
    "    \n",
    "    x = np.arange(-((nx/2)-1)*dx-(dx/2),(nx/2)*dx,dx)\n",
    "    y = x\n",
    "    z = np.arange(0,nz*dz,dz)\n",
    "    [X,Y,Z] = np.meshgrid(x,y,z);\n",
    "    \n",
    "    a = np.int(np.ceil(ny/2))\n",
    "    b = np.int(np.floor(ny/2))\n",
    "    if(a==b): #even\n",
    "        cy=a-1\n",
    "    else:     #odd\n",
    "        cy=b\n",
    "    \n",
    "    for zi in range(0,nz):\n",
    "        if (tmean[nx-1,cy,zi]) >= (threshold*tc[zi]):\n",
    "            lt[zi] = x[nx-1]\n",
    "        else:\n",
    "            for xi in range(cy,ny):\n",
    "                if (tmean[xi,cy,zi]) >= (threshold*tc[zi]):\n",
    "                    c = (tmean[xi,cy,zi] - (threshold*tc[zi]))/(tmean[xi,cy,zi]-tmean[(xi+1),cy,zi])\n",
    "                    lt[zi] = x[xi] +c*dx;         \n",
    "\n",
    "    tmeandls = np.zeros(nx*ny*nz,dtype = np.float32)\n",
    "    tmeandls = np.reshape(tmeandls, (nx,ny,nz))\n",
    "    xdlst = np.zeros(nx*nz,dtype = np.float32)\n",
    "    xdlst = np.reshape(xdlst, (ny,nz))\n",
    "    ydlst = xdlst\n",
    "    for zi in range(0,nz):\n",
    "        tmeandls[:,:,zi] = (tmean[:,:,zi]/tc[zi])\n",
    "        if (lt[zi]!=0):\n",
    "            xdlst[:,zi] = x[:]/lt[zi]\n",
    "            ydlst[:,zi] = y[:]/lt[zi]\n",
    "\n",
    "    graphxt = []\n",
    "    graphyt = []\n",
    "    for i in range(0,len(lt)):\n",
    "        if (lt[i] != 0):\n",
    "            graphxt = np.append(graphxt, ((i+1)*dz/D))\n",
    "            graphyt = np.append(graphyt,lt[i]/D)\n",
    "\n",
    "    graphxt = np.reshape(graphxt, (len(graphxt), 1))\n",
    "    graphyt = np.reshape(graphyt, (len(graphyt), 1))\n",
    "\n",
    "    lw = np.zeros((nz,1),dtype=np.float32)\n",
    "    zw = np.zeros((nz,1),dtype=np.float32)\n",
    "    for zi in range(0,nz):\n",
    "        if (wmean[nx-1,cy,zi]) >= (threshold*wc[zi]):\n",
    "            lw[zi] = x[nx-1]\n",
    "        else:\n",
    "            for xi in range(cy,nx):\n",
    "                if (wmean[xi,cy,zi]) >= (threshold*wc[zi]):\n",
    "                    c = (wmean[xi,cy,zi] - (threshold*wc[zi]))/(wmean[xi,cy,zi]-wmean[(xi+1),cy,zi])\n",
    "                    lw[zi] = x[xi] +c*dx;         \n",
    "    wmeandls = np.zeros(nx*ny*nz,dtype = np.float32)\n",
    "    wmeandls = np.reshape(wmeandls, (nx,ny,nz))\n",
    "    xdlsw = np.zeros(nx*nz,dtype = np.float32)\n",
    "    xdlsw = np.reshape(xdlsw, (ny,nz))\n",
    "    ydlsw = xdlsw\n",
    "    for zi in range(0,nz):\n",
    "        wmeandls[:,:,zi] = (wmean[:,:,zi]/wc[zi])\n",
    "        if (lw[zi]!=0):\n",
    "            xdlsw[:,zi] = x[:]/lw[zi]\n",
    "            ydlsw[:,zi] = y[:]/lw[zi]\n",
    "\n",
    "    graphxw = []\n",
    "    graphyw = []\n",
    "    for i in range(0,len(lw)):\n",
    "        if (lw[i] != 0):\n",
    "            graphxw = np.append(graphxw, ((i+1)*dz/D))\n",
    "            graphyw = np.append(graphyw,lw[i]/D)\n",
    "\n",
    "    graphxw = np.reshape(graphxw, (len(graphxw), 1))\n",
    "    graphyw = np.reshape(graphyw, (len(graphyw), 1))\n",
    "    plt.figure(figsize=(10,10))\n",
    "    plt.ylabel('Z/D')\n",
    "    plt.xlabel('halfwidth')\n",
    "    plt.title(name)# giving a title to my graph\n",
    "    plt.plot(graphyt, graphxt,label='Tmean')\n",
    "    plt.plot(graphyw, graphxw,label='Wmean')\n",
    "    plt.legend()\n",
    "    plt.show()\n",
    "    return"
   ]
  },
  {
   "cell_type": "code",
   "execution_count": 13,
   "metadata": {},
   "outputs": [],
   "source": [
    "def topviewmap(data,datatype,filename,dx=45,dy=45,dz=10,D=400,frame=20):\n",
    "    import matplotlib.pyplot as plt\n",
    "    import seaborn as sns; sns.set()\n",
    "    from matplotlib import animation\n",
    "    \n",
    "    nx,ny,nz,nt = shape(data)\n",
    "    data = np.mean(data,3)\n",
    "    datadless = np.zeros((nx,ny,nz),dtype = np.float32) #created a empty dimensionless data\n",
    "    \n",
    "    #solving for WC\n",
    "    a = np.int(np.ceil(data.shape[0]/2))\n",
    "    b = np.int(np.floor(data.shape[0]/2))\n",
    "    c = np.int(np.ceil(data.shape[1]/2))\n",
    "    d = np.int(np.floor(data.shape[1]/2))\n",
    "    if(a == b and c == d):                   #even even\n",
    "        wc1 = data[a,c,:]\n",
    "        wc2 = data[a,c-1,:]\n",
    "        wc3 = data[a-1,c-1,:]\n",
    "        wc4 = data[a-1,c,:]\n",
    "        wc = (wc1+wc2+wc3+wc4)/4\n",
    "    if(a != b and c == d):                   #odd even\n",
    "        wc1 = data[b,c,:]\n",
    "        wc2 = data[b,c-1,:]\n",
    "        wc = (wc1+wc2)/2\n",
    "    if(a == b and c != d):                   #even odd\n",
    "        wc1 = data[b,d,:]\n",
    "        wc2 = data[b-1,d,:]\n",
    "        wc = (wc1+wc2)/2\n",
    "    if(a!=b and c!=d):\n",
    "        wc = data[b,d,:]\n",
    "        \n",
    "    #Dimensionless Data divied by WC\n",
    "    for zi in range(0,nz):\n",
    "        datadless[:,:,zi] = (data[:,:,zi]/wc[zi])\n",
    "        \n",
    "    wmax = datadless[:,:,np.int(np.round(nz*0.15)):np.int(np.round(nz*0.85))].max()\n",
    "    wmin = datadless[:,:,np.int(np.round(nz*0.15)):np.int(np.round(nz*0.85))].min()\n",
    "    \n",
    "    fig = plt.figure(figsize=(10,10))\n",
    "    data = datadless[:,:,0]\n",
    "    ax = plt.axes()\n",
    "    sns.heatmap(data,vmin=wmin,vmax=wmax,fmt='.1f',cbar_kws={'label': datatype})\n",
    "\n",
    "    xaxis = []\n",
    "    for x in range (0,nx+1,5):\n",
    "        xaxis.append(x*dx/D)\n",
    "    yaxis = []\n",
    "    for y in range (0,ny+1,5):\n",
    "        yaxis.append(y*dy/D)\n",
    "        \n",
    "    def init():\n",
    "        sns.heatmap(np.zeros((nx, ny)),vmin=wmin,vmax=wmax,fmt='.1f',cbar = False)\n",
    "\n",
    "    def animate(i):\n",
    "        i = i +3\n",
    "        data = datadless[:,:,i*frame]\n",
    "        sns.heatmap(data,vmin=wmin,vmax=wmax,fmt='.1f',cbar = False)\n",
    "        ax.set_title('Dimensionless ' + datatype+' '+filename+', z = '+str(round(i*frame*dz/D,2)),fontsize = 20)\n",
    "        ax.set_ylabel('Y/D',fontsize = 20)\n",
    "        ax.set_xlabel('X/D',fontsize = 20)\n",
    "        ax.set_xticks(np.linspace(0, dx, dz))\n",
    "        ax.set_xticklabels(xaxis)\n",
    "        ax.set_yticks(np.linspace(0, dx, dz))\n",
    "        ax.set_yticklabels(yaxis)\n",
    "        ax.invert_yaxis()\n",
    "    fr = np.int(np.round(nz/frame*0.9))\n",
    "    anim = animation.FuncAnimation(fig, animate, init_func=init, frames= fr, interval=400,repeat = False)\n",
    "\n",
    "    # fig.tight_layout()\n",
    "    anim.save(filename+'.gif', writer='matplotlib.animation.PillowWritter')"
   ]
  },
  {
   "cell_type": "code",
   "execution_count": 14,
   "metadata": {
    "jupyter": {
     "source_hidden": true
    }
   },
   "outputs": [],
   "source": [
    "def lambda2(datau,datav,dataw,dx=40,dy=40,dz=10):\n",
    "    if (sameshape3(datau,datav,dataw) is False):\n",
    "        return\n",
    "    nx,ny,nz,nt = shape(datau)\n",
    "    import multifluidlab\n",
    "    import multiprocessing as mp\n",
    "    from multiprocessing import Pool\n",
    "    if __name__ == '__main__':\n",
    "        pool = mp.Pool(mp.cpu_count())\n",
    "        results = pool.starmap(multifluidlab.lambda2,[(datau,datav,dataw,t,dx,dy,dz) for t in range(nt)])\n",
    "        lamb2=np.zeros((nx,ny,nz,nt),dtype=np.float32)\n",
    "        for i in range(nt):\n",
    "            lamb2[:,:,:,i] = results[i]     \n",
    "        return lamb2\n",
    "    \n",
    "#try to parallel for i in range of nx"
   ]
  },
  {
   "cell_type": "code",
   "execution_count": 15,
   "metadata": {
    "jupyter": {
     "source_hidden": true
    }
   },
   "outputs": [],
   "source": [
    "a = np.array([1,2,3,4,5,6,7,8,9,10,11,12,13,14,15,16,17,18,19,20,21,22,23,243])\n",
    "b = np.array([1,2,3,4,5,6,7,8,9,10,11,12,13,14,15,16,17,18,19,20,21,22,23,243])\n",
    "c = np.array([1,2,3,4,5,6,7,8,9,10,11,12,13,14,15,16,17,18,19,20,21,22,23,243])\n",
    "da = np.reshape(a, (2,2,2,3), order=\"F\")\n",
    "db = np.reshape(b, (2,2,2,3), order=\"F\")\n",
    "dc = np.reshape(c, (2,2,2,3), order=\"F\")"
   ]
  },
  {
   "cell_type": "code",
   "execution_count": 58,
   "metadata": {},
   "outputs": [],
   "source": [
    "Start = 0 # numer of rows in dataset\n",
    "End = 400 # time start\n",
    "\n",
    "sk = Start*45*45*700\n",
    "nr = End - Start\n",
    "n = 45*45*700*nr\n",
    "\n",
    "#'/Volumes/ThanhPor/Helium_FLUX_1/He_h01_01_W.csv'\n",
    "\n",
    "# dft = pd.read_csv('D:\\Helium_FLUX_1\\He_h01_01_T.csv',skiprows = sk,nrows = n, dtype =np.float32)\n",
    "# datat = dft.to_numpy()\n",
    "dfu = pd.read_csv(\"C:/Users/Sound of Silence/Desktop/Helium_FLUX_1/He_h01_01_U.csv\",skiprows = sk,nrows = n, dtype =np.float32)\n",
    "datau = dfu.to_numpy()\n",
    "del dfu\n",
    "dfv = pd.read_csv(r'C:\\Users\\Sound of Silence\\Desktop\\Helium_FLUX_1\\He_h01_01_V.csv',skiprows = sk,nrows = n, dtype =np.float32)\n",
    "datav = dfv.to_numpy()\n",
    "del dfv\n",
    "dfw = pd.read_csv(r'C:\\Users\\Sound of Silence\\Desktop\\Helium_FLUX_1\\He_h01_01_W.csv',skiprows = sk,nrows = n, dtype =np.float32)\n",
    "dataw = dfw.to_numpy()\n",
    "del dfw\n",
    "\n",
    "#Shaping data into actural shape (45*45*700)\n",
    "# datat = np.reshape(datat, (45,45,700,nr), order=\"F\")\n",
    "datau = np.reshape(datau, (45,45,700,nr), order=\"F\")\n",
    "datav = np.reshape(datav, (45,45,700,nr), order=\"F\")\n",
    "dataw = np.reshape(dataw, (45,45,700,nr), order=\"F\")"
   ]
  },
  {
   "cell_type": "code",
   "execution_count": 59,
   "metadata": {},
   "outputs": [
    {
     "name": "stdout",
     "output_type": "stream",
     "text": [
      "Eigen: 381.4365 seconds\n"
     ]
    }
   ],
   "source": [
    "tic = time.perf_counter()\n",
    "ome = omega(datau,datav,dataw,dx=45,dy=45,dz=10)\n",
    "toc1 = time.perf_counter()\n",
    "print(f\"Eigen: {toc1 - tic:0.4f} seconds\")\n",
    "#468"
   ]
  },
  {
   "cell_type": "code",
   "execution_count": 67,
   "metadata": {},
   "outputs": [
    {
     "data": {
      "text/plain": [
       "(567000000, 1)"
      ]
     },
     "execution_count": 67,
     "metadata": {},
     "output_type": "execute_result"
    }
   ],
   "source": [
    "ome = np.reshape(ome, (nx*ny*nz*nr,1), order=\"F\")\n",
    "ome.shape"
   ]
  },
  {
   "cell_type": "code",
   "execution_count": null,
   "metadata": {},
   "outputs": [],
   "source": [
    "tic = time.perf_counter()\n",
    "\n",
    "import csv\n",
    "filename = \"Omega_Helium.csv\"\n",
    "# writing to csv file  \n",
    "with open(filename, 'w') as csvfile:  \n",
    "    # creating a csv writer object  \n",
    "    csvwriter = csv.writer(csvfile) \n",
    "#     csvwriter.writerow(['index','value']) # write the header\n",
    "    # writing the data rows  \n",
    "    csvwriter.writerows(ome)\n",
    "toc = time.perf_counter()\n",
    "print(f\"Downloaded the tutorial in {toc - tic:0.4f} seconds\")"
   ]
  },
  {
   "cell_type": "code",
   "execution_count": 44,
   "metadata": {},
   "outputs": [],
   "source": [
    "nx,ny,nz,nt = shape(datau)\n",
    "ome_mean = np.zeros((ny,nz,nt),dtype = np.float32)"
   ]
  },
  {
   "cell_type": "code",
   "execution_count": 45,
   "metadata": {},
   "outputs": [],
   "source": [
    "for t in range(nt):\n",
    "    ome_mean[:,:,t] = np.mean(ome[:,:,:,t],0)"
   ]
  },
  {
   "cell_type": "code",
   "execution_count": 64,
   "metadata": {},
   "outputs": [
    {
     "data": {
      "text/plain": [
       "(45, 45, 700, 400)"
      ]
     },
     "execution_count": 64,
     "metadata": {},
     "output_type": "execute_result"
    }
   ],
   "source": [
    "ome.shape"
   ]
  },
  {
   "cell_type": "code",
   "execution_count": 47,
   "metadata": {},
   "outputs": [],
   "source": [
    "import matplotlib.pyplot as plt\n",
    "import seaborn as sns; sns.set()\n",
    "from matplotlib import animation"
   ]
  },
  {
   "cell_type": "code",
   "execution_count": 57,
   "metadata": {},
   "outputs": [
    {
     "data": {
      "text/plain": [
       "<matplotlib.axes._subplots.AxesSubplot at 0x1f902116508>"
      ]
     },
     "execution_count": 57,
     "metadata": {},
     "output_type": "execute_result"
    },
    {
     "data": {
      "image/png": "[encoded data removed]",
      "text/plain": [
       "<Figure size 720x720 with 2 Axes>"
      ]
     },
     "metadata": {},
     "output_type": "display_data"
    }
   ],
   "source": [
    "# wmax = ome_mean[:,:,np.int(np.round(nz*0.15)):np.int(np.round(nz*0.85))].max()\n",
    "# wmin = ome_mean[:,:,np.int(np.round(nz*0.15)):np.int(np.round(nz*0.85))].min()\n",
    "wmax =0.001\n",
    "wmin =0\n",
    "datatype = \"Datatype\"\n",
    "fig = plt.figure(figsize=(10,10))\n",
    "data = ome_mean[:,:,80]\n",
    "ax = plt.axes()\n",
    "sns.heatmap(data,vmin=wmin,vmax=wmax,fmt='.1f',cbar_kws={'label': datatype})"
   ]
  },
  {
   "cell_type": "code",
   "execution_count": null,
   "metadata": {},
   "outputs": [],
   "source": []
  }
 ],
 "metadata": {
  "kernelspec": {
   "display_name": "Python 3",
   "language": "python",
   "name": "python3"
  },
  "language_info": {
   "codemirror_mode": {
    "name": "ipython",
    "version": 3
   },
   "file_extension": ".py",
   "mimetype": "text/x-python",
   "name": "python",
   "nbconvert_exporter": "python",
   "pygments_lexer": "ipython3",
   "version": "3.7.6"
  }
 },
 "nbformat": 4,
 "nbformat_minor": 4
}
