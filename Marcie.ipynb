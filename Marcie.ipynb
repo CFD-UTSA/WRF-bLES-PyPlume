{
 "cells": [
  {
   "cell_type": "code",
   "execution_count": 3,
   "metadata": {
    "jupyter": {
     "source_hidden": true
    }
   },
   "outputs": [],
   "source": [
    "#int This is a comment\n",
    "a = 1\n",
    "\n",
    "#float\n",
    "b = 4.33414\n",
    "\n",
    "#string\n",
    "c = \"cawh dsajli\""
   ]
  },
  {
   "cell_type": "code",
   "execution_count": 4,
   "metadata": {
    "collapsed": true,
    "jupyter": {
     "outputs_hidden": true,
     "source_hidden": true
    }
   },
   "outputs": [
    {
     "name": "stdout",
     "output_type": "stream",
     "text": [
      "cawh dsajli\n"
     ]
    }
   ],
   "source": [
    "print(c)"
   ]
  },
  {
   "cell_type": "code",
   "execution_count": 1,
   "metadata": {
    "jupyter": {
     "source_hidden": true
    }
   },
   "outputs": [],
   "source": [
    "print(\"Hello World \")\n",
    "\n",
    "print(\"Adding an int and a float together:           11111\",a+b,a,c)\n",
    "\n",
    "4*4 \n",
    "\n",
    "4**2 #4^2\n",
    "\n",
    "np.sqrt(16)"
   ]
  },
  {
   "cell_type": "code",
   "execution_count": 1,
   "metadata": {
    "jupyter": {
     "source_hidden": true
    }
   },
   "outputs": [],
   "source": [
    "#kilometers\n",
    "#input\n",
    "a = 3\n",
    "\n",
    "\n",
    "b = a *0.6\n",
    "print(a,'kilometers equal to',b,'miles')\n",
    "\n",
    "# 1 km = 0.6 miles\n",
    "# a km = (0.6*a) miles"
   ]
  },
  {
   "cell_type": "code",
   "execution_count": 1,
   "metadata": {},
   "outputs": [],
   "source": [
    "#STEP 1: importing library package\n",
    "import numpy as np\n",
    "import matplotlib.pyplot as plt # for graphing\n",
    "import pandas as pd #importing data"
   ]
  },
  {
   "cell_type": "code",
   "execution_count": 4,
   "metadata": {},
   "outputs": [],
   "source": [
    "dataframe = pd.read_csv(r'C:\\Users\\thanh\\Downloads\\Book12.csv')"
   ]
  },
  {
   "cell_type": "code",
   "execution_count": 5,
   "metadata": {
    "collapsed": true,
    "jupyter": {
     "outputs_hidden": true
    }
   },
   "outputs": [
    {
     "name": "stdout",
     "output_type": "stream",
     "text": [
      "     Name of the country  Number of cases  Latitude  Longitude  New Cases  \\\n",
      "0          United States          2234425     37.09     -95.71      26025   \n",
      "1                Brazil            960309    -14.24     -51.93      32475   \n",
      "2                 Russia           553301     61.52     105.32       7843   \n",
      "3                  India           367264     20.59      78.96      13103   \n",
      "4         United Kingdom           299251     55.38      -3.44       1115   \n",
      "5                  Spain           291763     40.46      -3.75        355   \n",
      "6                   Peru           240908     -9.19     -75.02       3752   \n",
      "7                  Italy           347828     41.87      12.57        328   \n",
      "8                   Iran           195051     32.43      53.69       2612   \n",
      "9                Germany           190179     51.17      10.45       1797   \n",
      "10                 Chile           184449    -35.68     -71.54          0   \n",
      "11                Turkey           182727     38.96      35.24       1429   \n",
      "12                France           158174     46.23       2.21        458   \n",
      "13                Mexico           154863     23.63    -102.55       4599   \n",
      "14              Pakistan           154760     30.38      69.35       5839   \n",
      "15          Saudi Arabia           141234     23.89      45.08       4919   \n",
      "16                Canada            99853     56.13    -106.35        386   \n",
      "17            Bangladesh            98489     23.69      90.36       4008   \n",
      "18                 China            83265     35.86     104.20         44   \n",
      "19                 Qatar            83174     25.35      51.18       1097   \n",
      "20          South Africa            80412    -30.56      22.94       4078   \n",
      "21               Belgium            60244     50.50       4.47         89   \n",
      "22              Colombia            57046      4.57     -74.30       2115   \n",
      "23               Belarus            56032     53.71      27.95        663   \n",
      "24                Sweden            54562     60.13      18.64       1239   \n",
      "25                 Egypt            49219     26.82      30.80       1363   \n",
      "26           Netherlands            49204     52.13       5.29        117   \n",
      "27              Ecuador             48490     -1.83     -78.18        547   \n",
      "28  United Arab Emirates            43364     23.42      53.85        382   \n",
      "29             Indonesia            41431     -0.79     113.92       1031   \n",
      "30             Singapore            41216      1.36     103.82        247   \n",
      "31              Portugal            37672     39.40      -8.22        336   \n",
      "32                Kuwait            37533     29.31      47.48        575   \n",
      "33             Argentina            35552    -38.42     -63.62       1393   \n",
      "34               Ukraine            33234     48.38      31.17        758   \n",
      "35           Switzerland            31187     46.82       8.23         33   \n",
      "36                Poland            30701     45.51    -122.68        506   \n",
      "37           Phillppines            27238     12.88     121.77        457   \n",
      "38           Afghanistan            26874     33.94      67.71        564   \n",
      "39                  Oman            26079     22.47      55.98        810   \n",
      "\n",
      "    Total of deaths  \n",
      "0            119941  \n",
      "1             46665  \n",
      "2              7478  \n",
      "3             12262  \n",
      "4             42153  \n",
      "5             27136  \n",
      "6              7257  \n",
      "7             24448  \n",
      "8              9185  \n",
      "9              8927  \n",
      "10             3615  \n",
      "11             4861  \n",
      "12            29575  \n",
      "13            18310  \n",
      "14             2975  \n",
      "15             1091  \n",
      "16             8254  \n",
      "17             1305  \n",
      "18             4634  \n",
      "19               82  \n",
      "20             1674  \n",
      "21             9675  \n",
      "22             1864  \n",
      "23              324  \n",
      "24             5041  \n",
      "25             1850  \n",
      "26             6074  \n",
      "27             4007  \n",
      "28              295  \n",
      "29             2276  \n",
      "30               26  \n",
      "31             1523  \n",
      "32              306  \n",
      "33              913  \n",
      "34              943  \n",
      "35             1956  \n",
      "36             1286  \n",
      "37             1108  \n",
      "38              504  \n",
      "39              116  \n"
     ]
    }
   ],
   "source": [
    "print(dataframe) #dataframe"
   ]
  },
  {
   "cell_type": "code",
   "execution_count": 11,
   "metadata": {
    "jupyter": {
     "source_hidden": true
    }
   },
   "outputs": [],
   "source": [
    "a = [1,2,3]\n",
    "print(a[0])"
   ]
  },
  {
   "cell_type": "code",
   "execution_count": 6,
   "metadata": {},
   "outputs": [],
   "source": [
    "#STEP 3: Converting data from dataframe into numpy array number \n",
    "data = dataframe.to_numpy() #convert to numpy array"
   ]
  },
  {
   "cell_type": "code",
   "execution_count": 9,
   "metadata": {
    "collapsed": true,
    "jupyter": {
     "outputs_hidden": true
    }
   },
   "outputs": [
    {
     "name": "stdout",
     "output_type": "stream",
     "text": [
      "[['United States' 2234425 37.09 -95.71 26025 119941]\n",
      " ['Brazil ' 960309 -14.24 -51.93 32475 46665]\n",
      " ['Russia' 553301 61.52 105.32 7843 7478]\n",
      " ['India' 367264 20.59 78.96 13103 12262]\n",
      " ['United Kingdom' 299251 55.38 -3.44 1115 42153]\n",
      " ['Spain' 291763 40.46 -3.75 355 27136]\n",
      " ['Peru' 240908 -9.19 -75.02 3752 7257]\n",
      " ['Italy' 347828 41.87 12.57 328 24448]\n",
      " ['Iran' 195051 32.43 53.69 2612 9185]\n",
      " ['Germany' 190179 51.17 10.45 1797 8927]\n",
      " ['Chile' 184449 -35.68 -71.54 0 3615]\n",
      " ['Turkey' 182727 38.96 35.24 1429 4861]\n",
      " ['France' 158174 46.23 2.21 458 29575]\n",
      " ['Mexico' 154863 23.63 -102.55 4599 18310]\n",
      " ['Pakistan' 154760 30.38 69.35 5839 2975]\n",
      " ['Saudi Arabia' 141234 23.89 45.08 4919 1091]\n",
      " ['Canada' 99853 56.13 -106.35 386 8254]\n",
      " ['Bangladesh' 98489 23.69 90.36 4008 1305]\n",
      " ['China' 83265 35.86 104.2 44 4634]\n",
      " ['Qatar' 83174 25.35 51.18 1097 82]\n",
      " ['South Africa' 80412 -30.56 22.94 4078 1674]\n",
      " ['Belgium' 60244 50.5 4.47 89 9675]\n",
      " ['Colombia' 57046 4.57 -74.3 2115 1864]\n",
      " ['Belarus' 56032 53.71 27.95 663 324]\n",
      " ['Sweden' 54562 60.13 18.64 1239 5041]\n",
      " ['Egypt' 49219 26.82 30.8 1363 1850]\n",
      " ['Netherlands' 49204 52.13 5.29 117 6074]\n",
      " ['Ecuador ' 48490 -1.83 -78.18 547 4007]\n",
      " ['United Arab Emirates' 43364 23.42 53.85 382 295]\n",
      " ['Indonesia' 41431 -0.79 113.92 1031 2276]\n",
      " ['Singapore' 41216 1.36 103.82 247 26]\n",
      " ['Portugal' 37672 39.4 -8.22 336 1523]\n",
      " ['Kuwait' 37533 29.31 47.48 575 306]\n",
      " ['Argentina' 35552 -38.42 -63.62 1393 913]\n",
      " ['Ukraine' 33234 48.38 31.17 758 943]\n",
      " ['Switzerland' 31187 46.82 8.23 33 1956]\n",
      " ['Poland' 30701 45.51 -122.68 506 1286]\n",
      " ['Phillppines' 27238 12.88 121.77 457 1108]\n",
      " ['Afghanistan' 26874 33.94 67.71 564 504]\n",
      " ['Oman' 26079 22.47 55.98 810 116]]\n"
     ]
    }
   ],
   "source": [
    "print(data)"
   ]
  },
  {
   "cell_type": "code",
   "execution_count": 10,
   "metadata": {},
   "outputs": [],
   "source": [
    "# x axis\n",
    "countries = data[:,0]\n",
    "cases= data[:,1]\n",
    "lat = data[:,2]\n",
    "long = data[:,3]"
   ]
  },
  {
   "cell_type": "code",
   "execution_count": 22,
   "metadata": {},
   "outputs": [
    {
     "data": {
      "text/plain": [
       "2234425"
      ]
     },
     "execution_count": 22,
     "metadata": {},
     "output_type": "execute_result"
    }
   ],
   "source": [
    "cases[0]"
   ]
  },
  {
   "cell_type": "code",
   "execution_count": 15,
   "metadata": {},
   "outputs": [
    {
     "data": {
      "text/plain": [
       "<BarContainer object of 40 artists>"
      ]
     },
     "execution_count": 15,
     "metadata": {},
     "output_type": "execute_result"
    },
    {
     "data": {
      "image/png": "[encoded data removed]",
      "text/plain": [
       "<Figure size 720x720 with 1 Axes>"
      ]
     },
     "metadata": {
      "needs_background": "light"
     },
     "output_type": "display_data"
    }
   ],
   "source": [
    "plt.figure(figsize = (10,10))\n",
    "plt.bar(lat,cases)"
   ]
  },
  {
   "cell_type": "code",
   "execution_count": null,
   "metadata": {},
   "outputs": [],
   "source": []
  }
 ],
 "metadata": {
  "kernelspec": {
   "display_name": "Python 3",
   "language": "python",
   "name": "python3"
  },
  "language_info": {
   "codemirror_mode": {
    "name": "ipython",
    "version": 3
   },
   "file_extension": ".py",
   "mimetype": "text/x-python",
   "name": "python",
   "nbconvert_exporter": "python",
   "pygments_lexer": "ipython3",
   "version": "3.7.6"
  }
 },
 "nbformat": 4,
 "nbformat_minor": 4
}
